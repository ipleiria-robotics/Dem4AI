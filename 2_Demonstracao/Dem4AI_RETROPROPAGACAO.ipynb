{
  "nbformat": 4,
  "nbformat_minor": 0,
  "metadata": {
    "colab": {
      "provenance": []
    },
    "kernelspec": {
      "name": "python3",
      "display_name": "Python 3"
    },
    "language_info": {
      "name": "python"
    },
    "widgets": {
      "application/vnd.jupyter.widget-state+json": {
        "4d652658776d47438fed12ba1432d778": {
          "model_module": "@jupyter-widgets/controls",
          "model_name": "FloatSliderModel",
          "model_module_version": "1.5.0",
          "state": {
            "_dom_classes": [],
            "_model_module": "@jupyter-widgets/controls",
            "_model_module_version": "1.5.0",
            "_model_name": "FloatSliderModel",
            "_view_count": null,
            "_view_module": "@jupyter-widgets/controls",
            "_view_module_version": "1.5.0",
            "_view_name": "FloatSliderView",
            "continuous_update": true,
            "description": "i1",
            "description_tooltip": null,
            "disabled": false,
            "layout": "IPY_MODEL_91b765818aab4ba0bb9f5df28cb86c73",
            "max": 1,
            "min": 0,
            "orientation": "horizontal",
            "readout": true,
            "readout_format": ".2f",
            "step": 0.01,
            "style": "IPY_MODEL_892bc9ddde2147a5a7f8d7a8fd9dd34d",
            "value": 0.05
          }
        },
        "91b765818aab4ba0bb9f5df28cb86c73": {
          "model_module": "@jupyter-widgets/base",
          "model_name": "LayoutModel",
          "model_module_version": "1.2.0",
          "state": {
            "_model_module": "@jupyter-widgets/base",
            "_model_module_version": "1.2.0",
            "_model_name": "LayoutModel",
            "_view_count": null,
            "_view_module": "@jupyter-widgets/base",
            "_view_module_version": "1.2.0",
            "_view_name": "LayoutView",
            "align_content": null,
            "align_items": null,
            "align_self": null,
            "border": null,
            "bottom": null,
            "display": null,
            "flex": null,
            "flex_flow": null,
            "grid_area": null,
            "grid_auto_columns": null,
            "grid_auto_flow": null,
            "grid_auto_rows": null,
            "grid_column": null,
            "grid_gap": null,
            "grid_row": null,
            "grid_template_areas": null,
            "grid_template_columns": null,
            "grid_template_rows": null,
            "height": null,
            "justify_content": null,
            "justify_items": null,
            "left": null,
            "margin": null,
            "max_height": null,
            "max_width": null,
            "min_height": null,
            "min_width": null,
            "object_fit": null,
            "object_position": null,
            "order": null,
            "overflow": null,
            "overflow_x": null,
            "overflow_y": null,
            "padding": null,
            "right": null,
            "top": null,
            "visibility": null,
            "width": null
          }
        },
        "892bc9ddde2147a5a7f8d7a8fd9dd34d": {
          "model_module": "@jupyter-widgets/controls",
          "model_name": "SliderStyleModel",
          "model_module_version": "1.5.0",
          "state": {
            "_model_module": "@jupyter-widgets/controls",
            "_model_module_version": "1.5.0",
            "_model_name": "SliderStyleModel",
            "_view_count": null,
            "_view_module": "@jupyter-widgets/base",
            "_view_module_version": "1.2.0",
            "_view_name": "StyleView",
            "description_width": "",
            "handle_color": null
          }
        },
        "d6e1229350cb4b789bdeff1cd05c007f": {
          "model_module": "@jupyter-widgets/controls",
          "model_name": "FloatSliderModel",
          "model_module_version": "1.5.0",
          "state": {
            "_dom_classes": [],
            "_model_module": "@jupyter-widgets/controls",
            "_model_module_version": "1.5.0",
            "_model_name": "FloatSliderModel",
            "_view_count": null,
            "_view_module": "@jupyter-widgets/controls",
            "_view_module_version": "1.5.0",
            "_view_name": "FloatSliderView",
            "continuous_update": true,
            "description": "i2",
            "description_tooltip": null,
            "disabled": false,
            "layout": "IPY_MODEL_9db74a546be74edd8d3987c5dbdd01e5",
            "max": 1,
            "min": 0,
            "orientation": "horizontal",
            "readout": true,
            "readout_format": ".2f",
            "step": 0.01,
            "style": "IPY_MODEL_76c33f5298ec4dcb8fe1db8dfe91cf80",
            "value": 0.1
          }
        },
        "9db74a546be74edd8d3987c5dbdd01e5": {
          "model_module": "@jupyter-widgets/base",
          "model_name": "LayoutModel",
          "model_module_version": "1.2.0",
          "state": {
            "_model_module": "@jupyter-widgets/base",
            "_model_module_version": "1.2.0",
            "_model_name": "LayoutModel",
            "_view_count": null,
            "_view_module": "@jupyter-widgets/base",
            "_view_module_version": "1.2.0",
            "_view_name": "LayoutView",
            "align_content": null,
            "align_items": null,
            "align_self": null,
            "border": null,
            "bottom": null,
            "display": null,
            "flex": null,
            "flex_flow": null,
            "grid_area": null,
            "grid_auto_columns": null,
            "grid_auto_flow": null,
            "grid_auto_rows": null,
            "grid_column": null,
            "grid_gap": null,
            "grid_row": null,
            "grid_template_areas": null,
            "grid_template_columns": null,
            "grid_template_rows": null,
            "height": null,
            "justify_content": null,
            "justify_items": null,
            "left": null,
            "margin": null,
            "max_height": null,
            "max_width": null,
            "min_height": null,
            "min_width": null,
            "object_fit": null,
            "object_position": null,
            "order": null,
            "overflow": null,
            "overflow_x": null,
            "overflow_y": null,
            "padding": null,
            "right": null,
            "top": null,
            "visibility": null,
            "width": null
          }
        },
        "76c33f5298ec4dcb8fe1db8dfe91cf80": {
          "model_module": "@jupyter-widgets/controls",
          "model_name": "SliderStyleModel",
          "model_module_version": "1.5.0",
          "state": {
            "_model_module": "@jupyter-widgets/controls",
            "_model_module_version": "1.5.0",
            "_model_name": "SliderStyleModel",
            "_view_count": null,
            "_view_module": "@jupyter-widgets/base",
            "_view_module_version": "1.2.0",
            "_view_name": "StyleView",
            "description_width": "",
            "handle_color": null
          }
        },
        "4fbd504266844a3e88a51bc2a2749e50": {
          "model_module": "@jupyter-widgets/controls",
          "model_name": "FloatSliderModel",
          "model_module_version": "1.5.0",
          "state": {
            "_dom_classes": [],
            "_model_module": "@jupyter-widgets/controls",
            "_model_module_version": "1.5.0",
            "_model_name": "FloatSliderModel",
            "_view_count": null,
            "_view_module": "@jupyter-widgets/controls",
            "_view_module_version": "1.5.0",
            "_view_name": "FloatSliderView",
            "continuous_update": true,
            "description": "w1",
            "description_tooltip": null,
            "disabled": false,
            "layout": "IPY_MODEL_44be1d6cc69a49a78041570c448db960",
            "max": 1,
            "min": 0,
            "orientation": "horizontal",
            "readout": true,
            "readout_format": ".2f",
            "step": 0.01,
            "style": "IPY_MODEL_3f5f67ced3af498bbb58a8b84f66584d",
            "value": 0.15
          }
        },
        "44be1d6cc69a49a78041570c448db960": {
          "model_module": "@jupyter-widgets/base",
          "model_name": "LayoutModel",
          "model_module_version": "1.2.0",
          "state": {
            "_model_module": "@jupyter-widgets/base",
            "_model_module_version": "1.2.0",
            "_model_name": "LayoutModel",
            "_view_count": null,
            "_view_module": "@jupyter-widgets/base",
            "_view_module_version": "1.2.0",
            "_view_name": "LayoutView",
            "align_content": null,
            "align_items": null,
            "align_self": null,
            "border": null,
            "bottom": null,
            "display": null,
            "flex": null,
            "flex_flow": null,
            "grid_area": null,
            "grid_auto_columns": null,
            "grid_auto_flow": null,
            "grid_auto_rows": null,
            "grid_column": null,
            "grid_gap": null,
            "grid_row": null,
            "grid_template_areas": null,
            "grid_template_columns": null,
            "grid_template_rows": null,
            "height": null,
            "justify_content": null,
            "justify_items": null,
            "left": null,
            "margin": null,
            "max_height": null,
            "max_width": null,
            "min_height": null,
            "min_width": null,
            "object_fit": null,
            "object_position": null,
            "order": null,
            "overflow": null,
            "overflow_x": null,
            "overflow_y": null,
            "padding": null,
            "right": null,
            "top": null,
            "visibility": null,
            "width": null
          }
        },
        "3f5f67ced3af498bbb58a8b84f66584d": {
          "model_module": "@jupyter-widgets/controls",
          "model_name": "SliderStyleModel",
          "model_module_version": "1.5.0",
          "state": {
            "_model_module": "@jupyter-widgets/controls",
            "_model_module_version": "1.5.0",
            "_model_name": "SliderStyleModel",
            "_view_count": null,
            "_view_module": "@jupyter-widgets/base",
            "_view_module_version": "1.2.0",
            "_view_name": "StyleView",
            "description_width": "",
            "handle_color": null
          }
        },
        "526d8de329c94a50a8a381b861765e80": {
          "model_module": "@jupyter-widgets/controls",
          "model_name": "FloatSliderModel",
          "model_module_version": "1.5.0",
          "state": {
            "_dom_classes": [],
            "_model_module": "@jupyter-widgets/controls",
            "_model_module_version": "1.5.0",
            "_model_name": "FloatSliderModel",
            "_view_count": null,
            "_view_module": "@jupyter-widgets/controls",
            "_view_module_version": "1.5.0",
            "_view_name": "FloatSliderView",
            "continuous_update": true,
            "description": "w2",
            "description_tooltip": null,
            "disabled": false,
            "layout": "IPY_MODEL_65bc160694044ceeb4ffd023d5c2d16d",
            "max": 1,
            "min": 0,
            "orientation": "horizontal",
            "readout": true,
            "readout_format": ".2f",
            "step": 0.01,
            "style": "IPY_MODEL_4382e2b468964032bdfc62e0f903c6fb",
            "value": 0.2
          }
        },
        "65bc160694044ceeb4ffd023d5c2d16d": {
          "model_module": "@jupyter-widgets/base",
          "model_name": "LayoutModel",
          "model_module_version": "1.2.0",
          "state": {
            "_model_module": "@jupyter-widgets/base",
            "_model_module_version": "1.2.0",
            "_model_name": "LayoutModel",
            "_view_count": null,
            "_view_module": "@jupyter-widgets/base",
            "_view_module_version": "1.2.0",
            "_view_name": "LayoutView",
            "align_content": null,
            "align_items": null,
            "align_self": null,
            "border": null,
            "bottom": null,
            "display": null,
            "flex": null,
            "flex_flow": null,
            "grid_area": null,
            "grid_auto_columns": null,
            "grid_auto_flow": null,
            "grid_auto_rows": null,
            "grid_column": null,
            "grid_gap": null,
            "grid_row": null,
            "grid_template_areas": null,
            "grid_template_columns": null,
            "grid_template_rows": null,
            "height": null,
            "justify_content": null,
            "justify_items": null,
            "left": null,
            "margin": null,
            "max_height": null,
            "max_width": null,
            "min_height": null,
            "min_width": null,
            "object_fit": null,
            "object_position": null,
            "order": null,
            "overflow": null,
            "overflow_x": null,
            "overflow_y": null,
            "padding": null,
            "right": null,
            "top": null,
            "visibility": null,
            "width": null
          }
        },
        "4382e2b468964032bdfc62e0f903c6fb": {
          "model_module": "@jupyter-widgets/controls",
          "model_name": "SliderStyleModel",
          "model_module_version": "1.5.0",
          "state": {
            "_model_module": "@jupyter-widgets/controls",
            "_model_module_version": "1.5.0",
            "_model_name": "SliderStyleModel",
            "_view_count": null,
            "_view_module": "@jupyter-widgets/base",
            "_view_module_version": "1.2.0",
            "_view_name": "StyleView",
            "description_width": "",
            "handle_color": null
          }
        },
        "5439d4ff95cc48c3b3b5f0413ee5ddd5": {
          "model_module": "@jupyter-widgets/controls",
          "model_name": "FloatSliderModel",
          "model_module_version": "1.5.0",
          "state": {
            "_dom_classes": [],
            "_model_module": "@jupyter-widgets/controls",
            "_model_module_version": "1.5.0",
            "_model_name": "FloatSliderModel",
            "_view_count": null,
            "_view_module": "@jupyter-widgets/controls",
            "_view_module_version": "1.5.0",
            "_view_name": "FloatSliderView",
            "continuous_update": true,
            "description": "w3",
            "description_tooltip": null,
            "disabled": false,
            "layout": "IPY_MODEL_b4b4657effce4305b99ab232c63601c6",
            "max": 1,
            "min": 0,
            "orientation": "horizontal",
            "readout": true,
            "readout_format": ".2f",
            "step": 0.01,
            "style": "IPY_MODEL_35b616a90f7c405b821fdc19db589c9f",
            "value": 0.25
          }
        },
        "b4b4657effce4305b99ab232c63601c6": {
          "model_module": "@jupyter-widgets/base",
          "model_name": "LayoutModel",
          "model_module_version": "1.2.0",
          "state": {
            "_model_module": "@jupyter-widgets/base",
            "_model_module_version": "1.2.0",
            "_model_name": "LayoutModel",
            "_view_count": null,
            "_view_module": "@jupyter-widgets/base",
            "_view_module_version": "1.2.0",
            "_view_name": "LayoutView",
            "align_content": null,
            "align_items": null,
            "align_self": null,
            "border": null,
            "bottom": null,
            "display": null,
            "flex": null,
            "flex_flow": null,
            "grid_area": null,
            "grid_auto_columns": null,
            "grid_auto_flow": null,
            "grid_auto_rows": null,
            "grid_column": null,
            "grid_gap": null,
            "grid_row": null,
            "grid_template_areas": null,
            "grid_template_columns": null,
            "grid_template_rows": null,
            "height": null,
            "justify_content": null,
            "justify_items": null,
            "left": null,
            "margin": null,
            "max_height": null,
            "max_width": null,
            "min_height": null,
            "min_width": null,
            "object_fit": null,
            "object_position": null,
            "order": null,
            "overflow": null,
            "overflow_x": null,
            "overflow_y": null,
            "padding": null,
            "right": null,
            "top": null,
            "visibility": null,
            "width": null
          }
        },
        "35b616a90f7c405b821fdc19db589c9f": {
          "model_module": "@jupyter-widgets/controls",
          "model_name": "SliderStyleModel",
          "model_module_version": "1.5.0",
          "state": {
            "_model_module": "@jupyter-widgets/controls",
            "_model_module_version": "1.5.0",
            "_model_name": "SliderStyleModel",
            "_view_count": null,
            "_view_module": "@jupyter-widgets/base",
            "_view_module_version": "1.2.0",
            "_view_name": "StyleView",
            "description_width": "",
            "handle_color": null
          }
        },
        "defcd0bb917b4ac29e1b6c067d6f6006": {
          "model_module": "@jupyter-widgets/controls",
          "model_name": "FloatSliderModel",
          "model_module_version": "1.5.0",
          "state": {
            "_dom_classes": [],
            "_model_module": "@jupyter-widgets/controls",
            "_model_module_version": "1.5.0",
            "_model_name": "FloatSliderModel",
            "_view_count": null,
            "_view_module": "@jupyter-widgets/controls",
            "_view_module_version": "1.5.0",
            "_view_name": "FloatSliderView",
            "continuous_update": true,
            "description": "w4",
            "description_tooltip": null,
            "disabled": false,
            "layout": "IPY_MODEL_7da24c5460ab4d12a36ec1cd8c774a85",
            "max": 1,
            "min": 0,
            "orientation": "horizontal",
            "readout": true,
            "readout_format": ".2f",
            "step": 0.01,
            "style": "IPY_MODEL_1af42fff79ef4ee5a3fb2c543a754c3e",
            "value": 0.3
          }
        },
        "7da24c5460ab4d12a36ec1cd8c774a85": {
          "model_module": "@jupyter-widgets/base",
          "model_name": "LayoutModel",
          "model_module_version": "1.2.0",
          "state": {
            "_model_module": "@jupyter-widgets/base",
            "_model_module_version": "1.2.0",
            "_model_name": "LayoutModel",
            "_view_count": null,
            "_view_module": "@jupyter-widgets/base",
            "_view_module_version": "1.2.0",
            "_view_name": "LayoutView",
            "align_content": null,
            "align_items": null,
            "align_self": null,
            "border": null,
            "bottom": null,
            "display": null,
            "flex": null,
            "flex_flow": null,
            "grid_area": null,
            "grid_auto_columns": null,
            "grid_auto_flow": null,
            "grid_auto_rows": null,
            "grid_column": null,
            "grid_gap": null,
            "grid_row": null,
            "grid_template_areas": null,
            "grid_template_columns": null,
            "grid_template_rows": null,
            "height": null,
            "justify_content": null,
            "justify_items": null,
            "left": null,
            "margin": null,
            "max_height": null,
            "max_width": null,
            "min_height": null,
            "min_width": null,
            "object_fit": null,
            "object_position": null,
            "order": null,
            "overflow": null,
            "overflow_x": null,
            "overflow_y": null,
            "padding": null,
            "right": null,
            "top": null,
            "visibility": null,
            "width": null
          }
        },
        "1af42fff79ef4ee5a3fb2c543a754c3e": {
          "model_module": "@jupyter-widgets/controls",
          "model_name": "SliderStyleModel",
          "model_module_version": "1.5.0",
          "state": {
            "_model_module": "@jupyter-widgets/controls",
            "_model_module_version": "1.5.0",
            "_model_name": "SliderStyleModel",
            "_view_count": null,
            "_view_module": "@jupyter-widgets/base",
            "_view_module_version": "1.2.0",
            "_view_name": "StyleView",
            "description_width": "",
            "handle_color": null
          }
        },
        "dc7bb018d3d74f2da63291bda34376d0": {
          "model_module": "@jupyter-widgets/controls",
          "model_name": "FloatSliderModel",
          "model_module_version": "1.5.0",
          "state": {
            "_dom_classes": [],
            "_model_module": "@jupyter-widgets/controls",
            "_model_module_version": "1.5.0",
            "_model_name": "FloatSliderModel",
            "_view_count": null,
            "_view_module": "@jupyter-widgets/controls",
            "_view_module_version": "1.5.0",
            "_view_name": "FloatSliderView",
            "continuous_update": true,
            "description": "w5",
            "description_tooltip": null,
            "disabled": false,
            "layout": "IPY_MODEL_c4b1fb9b897c4ef09f697d99b7776170",
            "max": 1,
            "min": 0,
            "orientation": "horizontal",
            "readout": true,
            "readout_format": ".2f",
            "step": 0.01,
            "style": "IPY_MODEL_b7e69f83d033472e830d80758fc0276d",
            "value": 0.4
          }
        },
        "c4b1fb9b897c4ef09f697d99b7776170": {
          "model_module": "@jupyter-widgets/base",
          "model_name": "LayoutModel",
          "model_module_version": "1.2.0",
          "state": {
            "_model_module": "@jupyter-widgets/base",
            "_model_module_version": "1.2.0",
            "_model_name": "LayoutModel",
            "_view_count": null,
            "_view_module": "@jupyter-widgets/base",
            "_view_module_version": "1.2.0",
            "_view_name": "LayoutView",
            "align_content": null,
            "align_items": null,
            "align_self": null,
            "border": null,
            "bottom": null,
            "display": null,
            "flex": null,
            "flex_flow": null,
            "grid_area": null,
            "grid_auto_columns": null,
            "grid_auto_flow": null,
            "grid_auto_rows": null,
            "grid_column": null,
            "grid_gap": null,
            "grid_row": null,
            "grid_template_areas": null,
            "grid_template_columns": null,
            "grid_template_rows": null,
            "height": null,
            "justify_content": null,
            "justify_items": null,
            "left": null,
            "margin": null,
            "max_height": null,
            "max_width": null,
            "min_height": null,
            "min_width": null,
            "object_fit": null,
            "object_position": null,
            "order": null,
            "overflow": null,
            "overflow_x": null,
            "overflow_y": null,
            "padding": null,
            "right": null,
            "top": null,
            "visibility": null,
            "width": null
          }
        },
        "b7e69f83d033472e830d80758fc0276d": {
          "model_module": "@jupyter-widgets/controls",
          "model_name": "SliderStyleModel",
          "model_module_version": "1.5.0",
          "state": {
            "_model_module": "@jupyter-widgets/controls",
            "_model_module_version": "1.5.0",
            "_model_name": "SliderStyleModel",
            "_view_count": null,
            "_view_module": "@jupyter-widgets/base",
            "_view_module_version": "1.2.0",
            "_view_name": "StyleView",
            "description_width": "",
            "handle_color": null
          }
        },
        "4632a66bac924e2fa6ba2d240f3b7428": {
          "model_module": "@jupyter-widgets/controls",
          "model_name": "FloatSliderModel",
          "model_module_version": "1.5.0",
          "state": {
            "_dom_classes": [],
            "_model_module": "@jupyter-widgets/controls",
            "_model_module_version": "1.5.0",
            "_model_name": "FloatSliderModel",
            "_view_count": null,
            "_view_module": "@jupyter-widgets/controls",
            "_view_module_version": "1.5.0",
            "_view_name": "FloatSliderView",
            "continuous_update": true,
            "description": "w6",
            "description_tooltip": null,
            "disabled": false,
            "layout": "IPY_MODEL_6db48955de5440b3ac48fd4c8ad7ad81",
            "max": 1,
            "min": 0,
            "orientation": "horizontal",
            "readout": true,
            "readout_format": ".2f",
            "step": 0.01,
            "style": "IPY_MODEL_8aa2172f3a9f44ceb4b7b34dc9314155",
            "value": 0.45
          }
        },
        "6db48955de5440b3ac48fd4c8ad7ad81": {
          "model_module": "@jupyter-widgets/base",
          "model_name": "LayoutModel",
          "model_module_version": "1.2.0",
          "state": {
            "_model_module": "@jupyter-widgets/base",
            "_model_module_version": "1.2.0",
            "_model_name": "LayoutModel",
            "_view_count": null,
            "_view_module": "@jupyter-widgets/base",
            "_view_module_version": "1.2.0",
            "_view_name": "LayoutView",
            "align_content": null,
            "align_items": null,
            "align_self": null,
            "border": null,
            "bottom": null,
            "display": null,
            "flex": null,
            "flex_flow": null,
            "grid_area": null,
            "grid_auto_columns": null,
            "grid_auto_flow": null,
            "grid_auto_rows": null,
            "grid_column": null,
            "grid_gap": null,
            "grid_row": null,
            "grid_template_areas": null,
            "grid_template_columns": null,
            "grid_template_rows": null,
            "height": null,
            "justify_content": null,
            "justify_items": null,
            "left": null,
            "margin": null,
            "max_height": null,
            "max_width": null,
            "min_height": null,
            "min_width": null,
            "object_fit": null,
            "object_position": null,
            "order": null,
            "overflow": null,
            "overflow_x": null,
            "overflow_y": null,
            "padding": null,
            "right": null,
            "top": null,
            "visibility": null,
            "width": null
          }
        },
        "8aa2172f3a9f44ceb4b7b34dc9314155": {
          "model_module": "@jupyter-widgets/controls",
          "model_name": "SliderStyleModel",
          "model_module_version": "1.5.0",
          "state": {
            "_model_module": "@jupyter-widgets/controls",
            "_model_module_version": "1.5.0",
            "_model_name": "SliderStyleModel",
            "_view_count": null,
            "_view_module": "@jupyter-widgets/base",
            "_view_module_version": "1.2.0",
            "_view_name": "StyleView",
            "description_width": "",
            "handle_color": null
          }
        },
        "a50a83ae0c5548ff9aef63a181af956f": {
          "model_module": "@jupyter-widgets/controls",
          "model_name": "FloatSliderModel",
          "model_module_version": "1.5.0",
          "state": {
            "_dom_classes": [],
            "_model_module": "@jupyter-widgets/controls",
            "_model_module_version": "1.5.0",
            "_model_name": "FloatSliderModel",
            "_view_count": null,
            "_view_module": "@jupyter-widgets/controls",
            "_view_module_version": "1.5.0",
            "_view_name": "FloatSliderView",
            "continuous_update": true,
            "description": "w7",
            "description_tooltip": null,
            "disabled": false,
            "layout": "IPY_MODEL_3210cf65f58349b583ea0869bfefd868",
            "max": 1,
            "min": 0,
            "orientation": "horizontal",
            "readout": true,
            "readout_format": ".2f",
            "step": 0.01,
            "style": "IPY_MODEL_56b9221e86c84adc8e07b1e2335caaf7",
            "value": 0.5
          }
        },
        "3210cf65f58349b583ea0869bfefd868": {
          "model_module": "@jupyter-widgets/base",
          "model_name": "LayoutModel",
          "model_module_version": "1.2.0",
          "state": {
            "_model_module": "@jupyter-widgets/base",
            "_model_module_version": "1.2.0",
            "_model_name": "LayoutModel",
            "_view_count": null,
            "_view_module": "@jupyter-widgets/base",
            "_view_module_version": "1.2.0",
            "_view_name": "LayoutView",
            "align_content": null,
            "align_items": null,
            "align_self": null,
            "border": null,
            "bottom": null,
            "display": null,
            "flex": null,
            "flex_flow": null,
            "grid_area": null,
            "grid_auto_columns": null,
            "grid_auto_flow": null,
            "grid_auto_rows": null,
            "grid_column": null,
            "grid_gap": null,
            "grid_row": null,
            "grid_template_areas": null,
            "grid_template_columns": null,
            "grid_template_rows": null,
            "height": null,
            "justify_content": null,
            "justify_items": null,
            "left": null,
            "margin": null,
            "max_height": null,
            "max_width": null,
            "min_height": null,
            "min_width": null,
            "object_fit": null,
            "object_position": null,
            "order": null,
            "overflow": null,
            "overflow_x": null,
            "overflow_y": null,
            "padding": null,
            "right": null,
            "top": null,
            "visibility": null,
            "width": null
          }
        },
        "56b9221e86c84adc8e07b1e2335caaf7": {
          "model_module": "@jupyter-widgets/controls",
          "model_name": "SliderStyleModel",
          "model_module_version": "1.5.0",
          "state": {
            "_model_module": "@jupyter-widgets/controls",
            "_model_module_version": "1.5.0",
            "_model_name": "SliderStyleModel",
            "_view_count": null,
            "_view_module": "@jupyter-widgets/base",
            "_view_module_version": "1.2.0",
            "_view_name": "StyleView",
            "description_width": "",
            "handle_color": null
          }
        },
        "7adf0646302d4eac98017e1a0fc92a46": {
          "model_module": "@jupyter-widgets/controls",
          "model_name": "FloatSliderModel",
          "model_module_version": "1.5.0",
          "state": {
            "_dom_classes": [],
            "_model_module": "@jupyter-widgets/controls",
            "_model_module_version": "1.5.0",
            "_model_name": "FloatSliderModel",
            "_view_count": null,
            "_view_module": "@jupyter-widgets/controls",
            "_view_module_version": "1.5.0",
            "_view_name": "FloatSliderView",
            "continuous_update": true,
            "description": "w8",
            "description_tooltip": null,
            "disabled": false,
            "layout": "IPY_MODEL_bbed7ae7f9c64afeb181d159005dee36",
            "max": 1,
            "min": 0,
            "orientation": "horizontal",
            "readout": true,
            "readout_format": ".2f",
            "step": 0.01,
            "style": "IPY_MODEL_8a7c5f7bbfe543ea8d195cbd4e4a7c09",
            "value": 0.55
          }
        },
        "bbed7ae7f9c64afeb181d159005dee36": {
          "model_module": "@jupyter-widgets/base",
          "model_name": "LayoutModel",
          "model_module_version": "1.2.0",
          "state": {
            "_model_module": "@jupyter-widgets/base",
            "_model_module_version": "1.2.0",
            "_model_name": "LayoutModel",
            "_view_count": null,
            "_view_module": "@jupyter-widgets/base",
            "_view_module_version": "1.2.0",
            "_view_name": "LayoutView",
            "align_content": null,
            "align_items": null,
            "align_self": null,
            "border": null,
            "bottom": null,
            "display": null,
            "flex": null,
            "flex_flow": null,
            "grid_area": null,
            "grid_auto_columns": null,
            "grid_auto_flow": null,
            "grid_auto_rows": null,
            "grid_column": null,
            "grid_gap": null,
            "grid_row": null,
            "grid_template_areas": null,
            "grid_template_columns": null,
            "grid_template_rows": null,
            "height": null,
            "justify_content": null,
            "justify_items": null,
            "left": null,
            "margin": null,
            "max_height": null,
            "max_width": null,
            "min_height": null,
            "min_width": null,
            "object_fit": null,
            "object_position": null,
            "order": null,
            "overflow": null,
            "overflow_x": null,
            "overflow_y": null,
            "padding": null,
            "right": null,
            "top": null,
            "visibility": null,
            "width": null
          }
        },
        "8a7c5f7bbfe543ea8d195cbd4e4a7c09": {
          "model_module": "@jupyter-widgets/controls",
          "model_name": "SliderStyleModel",
          "model_module_version": "1.5.0",
          "state": {
            "_model_module": "@jupyter-widgets/controls",
            "_model_module_version": "1.5.0",
            "_model_name": "SliderStyleModel",
            "_view_count": null,
            "_view_module": "@jupyter-widgets/base",
            "_view_module_version": "1.2.0",
            "_view_name": "StyleView",
            "description_width": "",
            "handle_color": null
          }
        },
        "e6b69b6d1e6647cab4976e714ee3f707": {
          "model_module": "@jupyter-widgets/controls",
          "model_name": "FloatSliderModel",
          "model_module_version": "1.5.0",
          "state": {
            "_dom_classes": [],
            "_model_module": "@jupyter-widgets/controls",
            "_model_module_version": "1.5.0",
            "_model_name": "FloatSliderModel",
            "_view_count": null,
            "_view_module": "@jupyter-widgets/controls",
            "_view_module_version": "1.5.0",
            "_view_name": "FloatSliderView",
            "continuous_update": true,
            "description": "b11",
            "description_tooltip": null,
            "disabled": false,
            "layout": "IPY_MODEL_38aa8c28d7b44f54a77cd9d72cd4d655",
            "max": 1,
            "min": 0,
            "orientation": "horizontal",
            "readout": true,
            "readout_format": ".2f",
            "step": 0.01,
            "style": "IPY_MODEL_c9eba41f1e634d50b58c776378098438",
            "value": 0.35
          }
        },
        "38aa8c28d7b44f54a77cd9d72cd4d655": {
          "model_module": "@jupyter-widgets/base",
          "model_name": "LayoutModel",
          "model_module_version": "1.2.0",
          "state": {
            "_model_module": "@jupyter-widgets/base",
            "_model_module_version": "1.2.0",
            "_model_name": "LayoutModel",
            "_view_count": null,
            "_view_module": "@jupyter-widgets/base",
            "_view_module_version": "1.2.0",
            "_view_name": "LayoutView",
            "align_content": null,
            "align_items": null,
            "align_self": null,
            "border": null,
            "bottom": null,
            "display": null,
            "flex": null,
            "flex_flow": null,
            "grid_area": null,
            "grid_auto_columns": null,
            "grid_auto_flow": null,
            "grid_auto_rows": null,
            "grid_column": null,
            "grid_gap": null,
            "grid_row": null,
            "grid_template_areas": null,
            "grid_template_columns": null,
            "grid_template_rows": null,
            "height": null,
            "justify_content": null,
            "justify_items": null,
            "left": null,
            "margin": null,
            "max_height": null,
            "max_width": null,
            "min_height": null,
            "min_width": null,
            "object_fit": null,
            "object_position": null,
            "order": null,
            "overflow": null,
            "overflow_x": null,
            "overflow_y": null,
            "padding": null,
            "right": null,
            "top": null,
            "visibility": null,
            "width": null
          }
        },
        "c9eba41f1e634d50b58c776378098438": {
          "model_module": "@jupyter-widgets/controls",
          "model_name": "SliderStyleModel",
          "model_module_version": "1.5.0",
          "state": {
            "_model_module": "@jupyter-widgets/controls",
            "_model_module_version": "1.5.0",
            "_model_name": "SliderStyleModel",
            "_view_count": null,
            "_view_module": "@jupyter-widgets/base",
            "_view_module_version": "1.2.0",
            "_view_name": "StyleView",
            "description_width": "",
            "handle_color": null
          }
        },
        "d668a5356ff64d869a95911bafedf126": {
          "model_module": "@jupyter-widgets/controls",
          "model_name": "FloatSliderModel",
          "model_module_version": "1.5.0",
          "state": {
            "_dom_classes": [],
            "_model_module": "@jupyter-widgets/controls",
            "_model_module_version": "1.5.0",
            "_model_name": "FloatSliderModel",
            "_view_count": null,
            "_view_module": "@jupyter-widgets/controls",
            "_view_module_version": "1.5.0",
            "_view_name": "FloatSliderView",
            "continuous_update": true,
            "description": "b12",
            "description_tooltip": null,
            "disabled": false,
            "layout": "IPY_MODEL_5de8d5dcdbea4d42a174b87500490a30",
            "max": 1,
            "min": 0,
            "orientation": "horizontal",
            "readout": true,
            "readout_format": ".2f",
            "step": 0.01,
            "style": "IPY_MODEL_3db128b4dda04381a99af2902685bb73",
            "value": 0.35
          }
        },
        "5de8d5dcdbea4d42a174b87500490a30": {
          "model_module": "@jupyter-widgets/base",
          "model_name": "LayoutModel",
          "model_module_version": "1.2.0",
          "state": {
            "_model_module": "@jupyter-widgets/base",
            "_model_module_version": "1.2.0",
            "_model_name": "LayoutModel",
            "_view_count": null,
            "_view_module": "@jupyter-widgets/base",
            "_view_module_version": "1.2.0",
            "_view_name": "LayoutView",
            "align_content": null,
            "align_items": null,
            "align_self": null,
            "border": null,
            "bottom": null,
            "display": null,
            "flex": null,
            "flex_flow": null,
            "grid_area": null,
            "grid_auto_columns": null,
            "grid_auto_flow": null,
            "grid_auto_rows": null,
            "grid_column": null,
            "grid_gap": null,
            "grid_row": null,
            "grid_template_areas": null,
            "grid_template_columns": null,
            "grid_template_rows": null,
            "height": null,
            "justify_content": null,
            "justify_items": null,
            "left": null,
            "margin": null,
            "max_height": null,
            "max_width": null,
            "min_height": null,
            "min_width": null,
            "object_fit": null,
            "object_position": null,
            "order": null,
            "overflow": null,
            "overflow_x": null,
            "overflow_y": null,
            "padding": null,
            "right": null,
            "top": null,
            "visibility": null,
            "width": null
          }
        },
        "3db128b4dda04381a99af2902685bb73": {
          "model_module": "@jupyter-widgets/controls",
          "model_name": "SliderStyleModel",
          "model_module_version": "1.5.0",
          "state": {
            "_model_module": "@jupyter-widgets/controls",
            "_model_module_version": "1.5.0",
            "_model_name": "SliderStyleModel",
            "_view_count": null,
            "_view_module": "@jupyter-widgets/base",
            "_view_module_version": "1.2.0",
            "_view_name": "StyleView",
            "description_width": "",
            "handle_color": null
          }
        },
        "4dbe1ba472334bc4a0dd33252d9233b8": {
          "model_module": "@jupyter-widgets/controls",
          "model_name": "FloatSliderModel",
          "model_module_version": "1.5.0",
          "state": {
            "_dom_classes": [],
            "_model_module": "@jupyter-widgets/controls",
            "_model_module_version": "1.5.0",
            "_model_name": "FloatSliderModel",
            "_view_count": null,
            "_view_module": "@jupyter-widgets/controls",
            "_view_module_version": "1.5.0",
            "_view_name": "FloatSliderView",
            "continuous_update": true,
            "description": "b21",
            "description_tooltip": null,
            "disabled": false,
            "layout": "IPY_MODEL_dabbb1eb70a24aa8a8f793daaaac8f78",
            "max": 1,
            "min": 0,
            "orientation": "horizontal",
            "readout": true,
            "readout_format": ".2f",
            "step": 0.01,
            "style": "IPY_MODEL_acb07c676b1c4ca8ab1fd0c9f64e9741",
            "value": 0.6
          }
        },
        "dabbb1eb70a24aa8a8f793daaaac8f78": {
          "model_module": "@jupyter-widgets/base",
          "model_name": "LayoutModel",
          "model_module_version": "1.2.0",
          "state": {
            "_model_module": "@jupyter-widgets/base",
            "_model_module_version": "1.2.0",
            "_model_name": "LayoutModel",
            "_view_count": null,
            "_view_module": "@jupyter-widgets/base",
            "_view_module_version": "1.2.0",
            "_view_name": "LayoutView",
            "align_content": null,
            "align_items": null,
            "align_self": null,
            "border": null,
            "bottom": null,
            "display": null,
            "flex": null,
            "flex_flow": null,
            "grid_area": null,
            "grid_auto_columns": null,
            "grid_auto_flow": null,
            "grid_auto_rows": null,
            "grid_column": null,
            "grid_gap": null,
            "grid_row": null,
            "grid_template_areas": null,
            "grid_template_columns": null,
            "grid_template_rows": null,
            "height": null,
            "justify_content": null,
            "justify_items": null,
            "left": null,
            "margin": null,
            "max_height": null,
            "max_width": null,
            "min_height": null,
            "min_width": null,
            "object_fit": null,
            "object_position": null,
            "order": null,
            "overflow": null,
            "overflow_x": null,
            "overflow_y": null,
            "padding": null,
            "right": null,
            "top": null,
            "visibility": null,
            "width": null
          }
        },
        "acb07c676b1c4ca8ab1fd0c9f64e9741": {
          "model_module": "@jupyter-widgets/controls",
          "model_name": "SliderStyleModel",
          "model_module_version": "1.5.0",
          "state": {
            "_model_module": "@jupyter-widgets/controls",
            "_model_module_version": "1.5.0",
            "_model_name": "SliderStyleModel",
            "_view_count": null,
            "_view_module": "@jupyter-widgets/base",
            "_view_module_version": "1.2.0",
            "_view_name": "StyleView",
            "description_width": "",
            "handle_color": null
          }
        },
        "5455a91f68244d4094b3adcd7f140098": {
          "model_module": "@jupyter-widgets/controls",
          "model_name": "FloatSliderModel",
          "model_module_version": "1.5.0",
          "state": {
            "_dom_classes": [],
            "_model_module": "@jupyter-widgets/controls",
            "_model_module_version": "1.5.0",
            "_model_name": "FloatSliderModel",
            "_view_count": null,
            "_view_module": "@jupyter-widgets/controls",
            "_view_module_version": "1.5.0",
            "_view_name": "FloatSliderView",
            "continuous_update": true,
            "description": "b22",
            "description_tooltip": null,
            "disabled": false,
            "layout": "IPY_MODEL_5818bc506dd34f21b9ffc9258f7ddb44",
            "max": 1,
            "min": 0,
            "orientation": "horizontal",
            "readout": true,
            "readout_format": ".2f",
            "step": 0.01,
            "style": "IPY_MODEL_794eb07000234d1baf56062bbc004896",
            "value": 0.6
          }
        },
        "5818bc506dd34f21b9ffc9258f7ddb44": {
          "model_module": "@jupyter-widgets/base",
          "model_name": "LayoutModel",
          "model_module_version": "1.2.0",
          "state": {
            "_model_module": "@jupyter-widgets/base",
            "_model_module_version": "1.2.0",
            "_model_name": "LayoutModel",
            "_view_count": null,
            "_view_module": "@jupyter-widgets/base",
            "_view_module_version": "1.2.0",
            "_view_name": "LayoutView",
            "align_content": null,
            "align_items": null,
            "align_self": null,
            "border": null,
            "bottom": null,
            "display": null,
            "flex": null,
            "flex_flow": null,
            "grid_area": null,
            "grid_auto_columns": null,
            "grid_auto_flow": null,
            "grid_auto_rows": null,
            "grid_column": null,
            "grid_gap": null,
            "grid_row": null,
            "grid_template_areas": null,
            "grid_template_columns": null,
            "grid_template_rows": null,
            "height": null,
            "justify_content": null,
            "justify_items": null,
            "left": null,
            "margin": null,
            "max_height": null,
            "max_width": null,
            "min_height": null,
            "min_width": null,
            "object_fit": null,
            "object_position": null,
            "order": null,
            "overflow": null,
            "overflow_x": null,
            "overflow_y": null,
            "padding": null,
            "right": null,
            "top": null,
            "visibility": null,
            "width": null
          }
        },
        "794eb07000234d1baf56062bbc004896": {
          "model_module": "@jupyter-widgets/controls",
          "model_name": "SliderStyleModel",
          "model_module_version": "1.5.0",
          "state": {
            "_model_module": "@jupyter-widgets/controls",
            "_model_module_version": "1.5.0",
            "_model_name": "SliderStyleModel",
            "_view_count": null,
            "_view_module": "@jupyter-widgets/base",
            "_view_module_version": "1.2.0",
            "_view_name": "StyleView",
            "description_width": "",
            "handle_color": null
          }
        },
        "834286cf3a174d9c965410371062f7e8": {
          "model_module": "@jupyter-widgets/controls",
          "model_name": "FloatSliderModel",
          "model_module_version": "1.5.0",
          "state": {
            "_dom_classes": [],
            "_model_module": "@jupyter-widgets/controls",
            "_model_module_version": "1.5.0",
            "_model_name": "FloatSliderModel",
            "_view_count": null,
            "_view_module": "@jupyter-widgets/controls",
            "_view_module_version": "1.5.0",
            "_view_name": "FloatSliderView",
            "continuous_update": true,
            "description": "T.Aprendizagem",
            "description_tooltip": null,
            "disabled": false,
            "layout": "IPY_MODEL_8da0ca1fc619406e8b5baafc438c692f",
            "max": 1,
            "min": 0,
            "orientation": "horizontal",
            "readout": true,
            "readout_format": ".2f",
            "step": 0.01,
            "style": "IPY_MODEL_f57dbf4add244933ba7f80542a67e101",
            "value": 0.5
          }
        },
        "8da0ca1fc619406e8b5baafc438c692f": {
          "model_module": "@jupyter-widgets/base",
          "model_name": "LayoutModel",
          "model_module_version": "1.2.0",
          "state": {
            "_model_module": "@jupyter-widgets/base",
            "_model_module_version": "1.2.0",
            "_model_name": "LayoutModel",
            "_view_count": null,
            "_view_module": "@jupyter-widgets/base",
            "_view_module_version": "1.2.0",
            "_view_name": "LayoutView",
            "align_content": null,
            "align_items": null,
            "align_self": null,
            "border": null,
            "bottom": null,
            "display": null,
            "flex": null,
            "flex_flow": null,
            "grid_area": null,
            "grid_auto_columns": null,
            "grid_auto_flow": null,
            "grid_auto_rows": null,
            "grid_column": null,
            "grid_gap": null,
            "grid_row": null,
            "grid_template_areas": null,
            "grid_template_columns": null,
            "grid_template_rows": null,
            "height": null,
            "justify_content": null,
            "justify_items": null,
            "left": null,
            "margin": null,
            "max_height": null,
            "max_width": null,
            "min_height": null,
            "min_width": null,
            "object_fit": null,
            "object_position": null,
            "order": null,
            "overflow": null,
            "overflow_x": null,
            "overflow_y": null,
            "padding": null,
            "right": null,
            "top": null,
            "visibility": null,
            "width": null
          }
        },
        "f57dbf4add244933ba7f80542a67e101": {
          "model_module": "@jupyter-widgets/controls",
          "model_name": "SliderStyleModel",
          "model_module_version": "1.5.0",
          "state": {
            "_model_module": "@jupyter-widgets/controls",
            "_model_module_version": "1.5.0",
            "_model_name": "SliderStyleModel",
            "_view_count": null,
            "_view_module": "@jupyter-widgets/base",
            "_view_module_version": "1.2.0",
            "_view_name": "StyleView",
            "description_width": "",
            "handle_color": null
          }
        },
        "e856380ab9284644a9fda6ee43bf72f8": {
          "model_module": "@jupyter-widgets/controls",
          "model_name": "FloatSliderModel",
          "model_module_version": "1.5.0",
          "state": {
            "_dom_classes": [],
            "_model_module": "@jupyter-widgets/controls",
            "_model_module_version": "1.5.0",
            "_model_name": "FloatSliderModel",
            "_view_count": null,
            "_view_module": "@jupyter-widgets/controls",
            "_view_module_version": "1.5.0",
            "_view_name": "FloatSliderView",
            "continuous_update": true,
            "description": "Error Stop Learn",
            "description_tooltip": null,
            "disabled": false,
            "layout": "IPY_MODEL_91eed83bb2bf410ab0c97c449326ae31",
            "max": 1,
            "min": 0.0001,
            "orientation": "horizontal",
            "readout": true,
            "readout_format": ".2f",
            "step": 0.001,
            "style": "IPY_MODEL_3dfea7258a7b4d2486157337b33cbc04",
            "value": 0.9
          }
        },
        "91eed83bb2bf410ab0c97c449326ae31": {
          "model_module": "@jupyter-widgets/base",
          "model_name": "LayoutModel",
          "model_module_version": "1.2.0",
          "state": {
            "_model_module": "@jupyter-widgets/base",
            "_model_module_version": "1.2.0",
            "_model_name": "LayoutModel",
            "_view_count": null,
            "_view_module": "@jupyter-widgets/base",
            "_view_module_version": "1.2.0",
            "_view_name": "LayoutView",
            "align_content": null,
            "align_items": null,
            "align_self": null,
            "border": null,
            "bottom": null,
            "display": null,
            "flex": null,
            "flex_flow": null,
            "grid_area": null,
            "grid_auto_columns": null,
            "grid_auto_flow": null,
            "grid_auto_rows": null,
            "grid_column": null,
            "grid_gap": null,
            "grid_row": null,
            "grid_template_areas": null,
            "grid_template_columns": null,
            "grid_template_rows": null,
            "height": null,
            "justify_content": null,
            "justify_items": null,
            "left": null,
            "margin": null,
            "max_height": null,
            "max_width": null,
            "min_height": null,
            "min_width": null,
            "object_fit": null,
            "object_position": null,
            "order": null,
            "overflow": null,
            "overflow_x": null,
            "overflow_y": null,
            "padding": null,
            "right": null,
            "top": null,
            "visibility": null,
            "width": null
          }
        },
        "3dfea7258a7b4d2486157337b33cbc04": {
          "model_module": "@jupyter-widgets/controls",
          "model_name": "SliderStyleModel",
          "model_module_version": "1.5.0",
          "state": {
            "_model_module": "@jupyter-widgets/controls",
            "_model_module_version": "1.5.0",
            "_model_name": "SliderStyleModel",
            "_view_count": null,
            "_view_module": "@jupyter-widgets/base",
            "_view_module_version": "1.2.0",
            "_view_name": "StyleView",
            "description_width": "",
            "handle_color": null
          }
        },
        "993b4591d9fd4482b3b4e4c17f5df17f": {
          "model_module": "@jupyter-widgets/controls",
          "model_name": "ButtonModel",
          "model_module_version": "1.5.0",
          "state": {
            "_dom_classes": [],
            "_model_module": "@jupyter-widgets/controls",
            "_model_module_version": "1.5.0",
            "_model_name": "ButtonModel",
            "_view_count": null,
            "_view_module": "@jupyter-widgets/controls",
            "_view_module_version": "1.5.0",
            "_view_name": "ButtonView",
            "button_style": "",
            "description": "Ajustar Parametros",
            "disabled": false,
            "icon": "",
            "layout": "IPY_MODEL_7a517e6c1b684e4e971a07d24d22160b",
            "style": "IPY_MODEL_1f7f9447f03549a7aa3c0baf7bbca39b",
            "tooltip": ""
          }
        },
        "7a517e6c1b684e4e971a07d24d22160b": {
          "model_module": "@jupyter-widgets/base",
          "model_name": "LayoutModel",
          "model_module_version": "1.2.0",
          "state": {
            "_model_module": "@jupyter-widgets/base",
            "_model_module_version": "1.2.0",
            "_model_name": "LayoutModel",
            "_view_count": null,
            "_view_module": "@jupyter-widgets/base",
            "_view_module_version": "1.2.0",
            "_view_name": "LayoutView",
            "align_content": null,
            "align_items": null,
            "align_self": null,
            "border": null,
            "bottom": null,
            "display": null,
            "flex": null,
            "flex_flow": null,
            "grid_area": null,
            "grid_auto_columns": null,
            "grid_auto_flow": null,
            "grid_auto_rows": null,
            "grid_column": null,
            "grid_gap": null,
            "grid_row": null,
            "grid_template_areas": null,
            "grid_template_columns": null,
            "grid_template_rows": null,
            "height": null,
            "justify_content": null,
            "justify_items": null,
            "left": null,
            "margin": null,
            "max_height": null,
            "max_width": null,
            "min_height": null,
            "min_width": null,
            "object_fit": null,
            "object_position": null,
            "order": null,
            "overflow": null,
            "overflow_x": null,
            "overflow_y": null,
            "padding": null,
            "right": null,
            "top": null,
            "visibility": null,
            "width": null
          }
        },
        "1f7f9447f03549a7aa3c0baf7bbca39b": {
          "model_module": "@jupyter-widgets/controls",
          "model_name": "ButtonStyleModel",
          "model_module_version": "1.5.0",
          "state": {
            "_model_module": "@jupyter-widgets/controls",
            "_model_module_version": "1.5.0",
            "_model_name": "ButtonStyleModel",
            "_view_count": null,
            "_view_module": "@jupyter-widgets/base",
            "_view_module_version": "1.2.0",
            "_view_name": "StyleView",
            "button_color": null,
            "font_weight": ""
          }
        }
      }
    }
  },
  "cells": [
    {
      "cell_type": "code",
      "execution_count": null,
      "metadata": {
        "colab": {
          "base_uri": "https://localhost:8080/",
          "height": 1000,
          "referenced_widgets": [
            "4d652658776d47438fed12ba1432d778",
            "91b765818aab4ba0bb9f5df28cb86c73",
            "892bc9ddde2147a5a7f8d7a8fd9dd34d",
            "d6e1229350cb4b789bdeff1cd05c007f",
            "9db74a546be74edd8d3987c5dbdd01e5",
            "76c33f5298ec4dcb8fe1db8dfe91cf80",
            "4fbd504266844a3e88a51bc2a2749e50",
            "44be1d6cc69a49a78041570c448db960",
            "3f5f67ced3af498bbb58a8b84f66584d",
            "526d8de329c94a50a8a381b861765e80",
            "65bc160694044ceeb4ffd023d5c2d16d",
            "4382e2b468964032bdfc62e0f903c6fb",
            "5439d4ff95cc48c3b3b5f0413ee5ddd5",
            "b4b4657effce4305b99ab232c63601c6",
            "35b616a90f7c405b821fdc19db589c9f",
            "defcd0bb917b4ac29e1b6c067d6f6006",
            "7da24c5460ab4d12a36ec1cd8c774a85",
            "1af42fff79ef4ee5a3fb2c543a754c3e",
            "dc7bb018d3d74f2da63291bda34376d0",
            "c4b1fb9b897c4ef09f697d99b7776170",
            "b7e69f83d033472e830d80758fc0276d",
            "4632a66bac924e2fa6ba2d240f3b7428",
            "6db48955de5440b3ac48fd4c8ad7ad81",
            "8aa2172f3a9f44ceb4b7b34dc9314155",
            "a50a83ae0c5548ff9aef63a181af956f",
            "3210cf65f58349b583ea0869bfefd868",
            "56b9221e86c84adc8e07b1e2335caaf7",
            "7adf0646302d4eac98017e1a0fc92a46",
            "bbed7ae7f9c64afeb181d159005dee36",
            "8a7c5f7bbfe543ea8d195cbd4e4a7c09",
            "e6b69b6d1e6647cab4976e714ee3f707",
            "38aa8c28d7b44f54a77cd9d72cd4d655",
            "c9eba41f1e634d50b58c776378098438",
            "d668a5356ff64d869a95911bafedf126",
            "5de8d5dcdbea4d42a174b87500490a30",
            "3db128b4dda04381a99af2902685bb73",
            "4dbe1ba472334bc4a0dd33252d9233b8",
            "dabbb1eb70a24aa8a8f793daaaac8f78",
            "acb07c676b1c4ca8ab1fd0c9f64e9741",
            "5455a91f68244d4094b3adcd7f140098",
            "5818bc506dd34f21b9ffc9258f7ddb44",
            "794eb07000234d1baf56062bbc004896",
            "834286cf3a174d9c965410371062f7e8",
            "8da0ca1fc619406e8b5baafc438c692f",
            "f57dbf4add244933ba7f80542a67e101",
            "e856380ab9284644a9fda6ee43bf72f8",
            "91eed83bb2bf410ab0c97c449326ae31",
            "3dfea7258a7b4d2486157337b33cbc04",
            "993b4591d9fd4482b3b4e4c17f5df17f",
            "7a517e6c1b684e4e971a07d24d22160b",
            "1f7f9447f03549a7aa3c0baf7bbca39b"
          ]
        },
        "id": "vlaJXYZlUGDJ",
        "outputId": "74cba3b1-b1e2-4fa6-941d-d53bd0b57a25"
      },
      "outputs": [
        {
          "output_type": "display_data",
          "data": {
            "text/plain": [
              "FloatSlider(value=0.05, description='i1', max=1.0, step=0.01)"
            ],
            "application/vnd.jupyter.widget-view+json": {
              "version_major": 2,
              "version_minor": 0,
              "model_id": "4d652658776d47438fed12ba1432d778"
            }
          },
          "metadata": {}
        },
        {
          "output_type": "display_data",
          "data": {
            "text/plain": [
              "FloatSlider(value=0.1, description='i2', max=1.0, step=0.01)"
            ],
            "application/vnd.jupyter.widget-view+json": {
              "version_major": 2,
              "version_minor": 0,
              "model_id": "d6e1229350cb4b789bdeff1cd05c007f"
            }
          },
          "metadata": {}
        },
        {
          "output_type": "display_data",
          "data": {
            "text/plain": [
              "FloatSlider(value=0.15, description='w1', max=1.0, step=0.01)"
            ],
            "application/vnd.jupyter.widget-view+json": {
              "version_major": 2,
              "version_minor": 0,
              "model_id": "4fbd504266844a3e88a51bc2a2749e50"
            }
          },
          "metadata": {}
        },
        {
          "output_type": "display_data",
          "data": {
            "text/plain": [
              "FloatSlider(value=0.2, description='w2', max=1.0, step=0.01)"
            ],
            "application/vnd.jupyter.widget-view+json": {
              "version_major": 2,
              "version_minor": 0,
              "model_id": "526d8de329c94a50a8a381b861765e80"
            }
          },
          "metadata": {}
        },
        {
          "output_type": "display_data",
          "data": {
            "text/plain": [
              "FloatSlider(value=0.25, description='w3', max=1.0, step=0.01)"
            ],
            "application/vnd.jupyter.widget-view+json": {
              "version_major": 2,
              "version_minor": 0,
              "model_id": "5439d4ff95cc48c3b3b5f0413ee5ddd5"
            }
          },
          "metadata": {}
        },
        {
          "output_type": "display_data",
          "data": {
            "text/plain": [
              "FloatSlider(value=0.3, description='w4', max=1.0, step=0.01)"
            ],
            "application/vnd.jupyter.widget-view+json": {
              "version_major": 2,
              "version_minor": 0,
              "model_id": "defcd0bb917b4ac29e1b6c067d6f6006"
            }
          },
          "metadata": {}
        },
        {
          "output_type": "display_data",
          "data": {
            "text/plain": [
              "FloatSlider(value=0.4, description='w5', max=1.0, step=0.01)"
            ],
            "application/vnd.jupyter.widget-view+json": {
              "version_major": 2,
              "version_minor": 0,
              "model_id": "dc7bb018d3d74f2da63291bda34376d0"
            }
          },
          "metadata": {}
        },
        {
          "output_type": "display_data",
          "data": {
            "text/plain": [
              "FloatSlider(value=0.45, description='w6', max=1.0, step=0.01)"
            ],
            "application/vnd.jupyter.widget-view+json": {
              "version_major": 2,
              "version_minor": 0,
              "model_id": "4632a66bac924e2fa6ba2d240f3b7428"
            }
          },
          "metadata": {}
        },
        {
          "output_type": "display_data",
          "data": {
            "text/plain": [
              "FloatSlider(value=0.5, description='w7', max=1.0, step=0.01)"
            ],
            "application/vnd.jupyter.widget-view+json": {
              "version_major": 2,
              "version_minor": 0,
              "model_id": "a50a83ae0c5548ff9aef63a181af956f"
            }
          },
          "metadata": {}
        },
        {
          "output_type": "display_data",
          "data": {
            "text/plain": [
              "FloatSlider(value=0.55, description='w8', max=1.0, step=0.01)"
            ],
            "application/vnd.jupyter.widget-view+json": {
              "version_major": 2,
              "version_minor": 0,
              "model_id": "7adf0646302d4eac98017e1a0fc92a46"
            }
          },
          "metadata": {}
        },
        {
          "output_type": "display_data",
          "data": {
            "text/plain": [
              "FloatSlider(value=0.35, description='b11', max=1.0, step=0.01)"
            ],
            "application/vnd.jupyter.widget-view+json": {
              "version_major": 2,
              "version_minor": 0,
              "model_id": "e6b69b6d1e6647cab4976e714ee3f707"
            }
          },
          "metadata": {}
        },
        {
          "output_type": "display_data",
          "data": {
            "text/plain": [
              "FloatSlider(value=0.35, description='b12', max=1.0, step=0.01)"
            ],
            "application/vnd.jupyter.widget-view+json": {
              "version_major": 2,
              "version_minor": 0,
              "model_id": "d668a5356ff64d869a95911bafedf126"
            }
          },
          "metadata": {}
        },
        {
          "output_type": "display_data",
          "data": {
            "text/plain": [
              "FloatSlider(value=0.6, description='b21', max=1.0, step=0.01)"
            ],
            "application/vnd.jupyter.widget-view+json": {
              "version_major": 2,
              "version_minor": 0,
              "model_id": "4dbe1ba472334bc4a0dd33252d9233b8"
            }
          },
          "metadata": {}
        },
        {
          "output_type": "display_data",
          "data": {
            "text/plain": [
              "FloatSlider(value=0.6, description='b22', max=1.0, step=0.01)"
            ],
            "application/vnd.jupyter.widget-view+json": {
              "version_major": 2,
              "version_minor": 0,
              "model_id": "5455a91f68244d4094b3adcd7f140098"
            }
          },
          "metadata": {}
        },
        {
          "output_type": "display_data",
          "data": {
            "text/plain": [
              "FloatSlider(value=0.5, description='T.Aprendizagem', max=1.0, step=0.01)"
            ],
            "application/vnd.jupyter.widget-view+json": {
              "version_major": 2,
              "version_minor": 0,
              "model_id": "834286cf3a174d9c965410371062f7e8"
            }
          },
          "metadata": {}
        },
        {
          "output_type": "display_data",
          "data": {
            "text/plain": [
              "FloatSlider(value=0.9, description='Error Stop Learn', max=1.0, min=0.0001, step=0.001)"
            ],
            "application/vnd.jupyter.widget-view+json": {
              "version_major": 2,
              "version_minor": 0,
              "model_id": "e856380ab9284644a9fda6ee43bf72f8"
            }
          },
          "metadata": {}
        },
        {
          "output_type": "display_data",
          "data": {
            "text/plain": [
              "Button(description='Ajustar Parametros', style=ButtonStyle())"
            ],
            "application/vnd.jupyter.widget-view+json": {
              "version_major": 2,
              "version_minor": 0,
              "model_id": "993b4591d9fd4482b3b4e4c17f5df17f"
            }
          },
          "metadata": {}
        },
        {
          "output_type": "stream",
          "name": "stdout",
          "text": [
            "------------------------Camada de Oculta--------------------\n",
            "Entrada(h1)= 0.3775\n",
            "Entrada(h2)= 0.3925\n",
            "Saida(h1)= 0.593269992\n",
            "Saida(h2)= 0.596884378\n",
            "------------------------Camada de Saída---------------------\n",
            "Entrada(o1)= 1.105905967\n",
            "Entrada(o2)= 1.224921404\n",
            "Saida(o1)= 0.75136507\n",
            "Saida(o2)= 0.772928465\n",
            "------------------------Erro Quadratico---------------------\n",
            "Eo1= 0.274811084\n",
            "Eo2= 0.023560026\n",
            "Etotal= 0.298371109\n",
            "------------------------RETROPROPAGAÇÃO---------------------\n",
            "Etotal/Saida(o1)= 0.74136507\n",
            "EtotalSaida(o2)= -0.217071535\n",
            "Saida(o1)/Entrada(o1)= 0.186815602\n",
            "Saida(o2)/Entrada(o2)= 0.175510053\n",
            "Entrada(o1)/w5= 0.593269992\n",
            "Entrada(o2)/w7= 0.596884378\n",
            "Eo1/Entrada(h1) = 0.138498562\n",
            "Eo2/Entrada(h2) = -0.038098237\n",
            "Eo1/Saida(h1)= 0.055399425\n",
            "Eo2/Saida(h1)= -0.019049119\n",
            "Etotal/Saida(h1)= 0.036350306\n",
            "Saida(h1)/Entrada(h1)= 0.241300709\n",
            "Saida(h2)/Entrada(h2)= 0.240613417\n",
            "------------------------Regra da cadeia---------------------\n",
            "Etotal/w5= 0.082167041\n",
            "Etotal/w7= -0.022740242\n",
            "Etotal/w1= 0.000438568\n",
            "Etotal/w2= 0.000874637\n",
            "------------------------Novos valores---------------------\n",
            "---Novos pesos---\n",
            "W5+ = 0.35891648\n",
            "W6+ = 0.408916479\n",
            "W7+ = 0.511370121\n",
            "W8+ = 0.561370121\n",
            "W1+ = 0.149780716\n",
            "W2+ = 0.199562682\n",
            "W3+ = 0.249780716\n",
            "W4+ = 0.299562681\n",
            "---Novos bias---\n",
            "b1,1 = 0.349780716\n",
            "b1,2 = 0.349562681\n",
            "b2,1 = 0.55891648\n",
            "b2,2 = 0.611370121\n"
          ]
        }
      ],
      "source": [
        "\"\"\"\n",
        "                         Politécnico de Leiria\n",
        "       Licenciatura Engenharia Eletrotécnica e de Computadores\n",
        "                        Projeto Final de Curso\n",
        "                                Dem4AI\n",
        "\n",
        "\n",
        "Autores:  Francisco António Lisboa Guarda   Nº2201675\n",
        "          Samuel Domingos Lourenço          Nº2200904\n",
        "\n",
        "\n",
        "Orientadores: Luís Manuel Conde Bento\n",
        "              Mónica Jorge Carvalho de Figueiredo\n",
        "\n",
        "\n",
        "\"\"\"\n",
        "\n",
        "\n",
        "\n",
        "import math\n",
        "import ipywidgets as widgets\n",
        "from IPython.display import display\n",
        "import matplotlib.pyplot as plt\n",
        "\"\"\"\n",
        "Valores do PowerPoint\n",
        "\n",
        "w1 = 0.11\n",
        "w2 = 0.25\n",
        "w3 = 0.27\n",
        "w4 = 0.32\n",
        "w5 = 0.37\n",
        "w6 = 0.43\n",
        "w7 = 0.48\n",
        "w8 = 0.53\n",
        "\n",
        "b11 = 0.30\n",
        "b12 = 0.36\n",
        "b21 = 0.26\n",
        "b22 = 0.41\n",
        "\n",
        "i1 = 0.22\n",
        "i2 = 0.93\n",
        "\"\"\"\n",
        "\n",
        "\n",
        "\n",
        "\"\"\"\n",
        "Valores https://mattmazur.com/2015/03/17/a-step-by-step-backpropagation-example/\n",
        "\"\"\"\n",
        "w1 = 0.15\n",
        "w2 = 0.20\n",
        "w3 = 0.25\n",
        "w4 = 0.30\n",
        "w5 = 0.40\n",
        "w6 = 0.45\n",
        "w7 = 0.50\n",
        "w8 = 0.55\n",
        "\n",
        "b11 = 0.35\n",
        "b12 = 0.35\n",
        "b21 = 0.60\n",
        "b22 = 0.60\n",
        "\n",
        "i1 = 0.05\n",
        "i2 = 0.1\n",
        "\n",
        "LLCD = 9 # LIMITAR_LIMITAR_CASAS_DECIMAS\n",
        "\n",
        "\n",
        "targeto1 = 0.01\n",
        "targeto2 = 1 - targeto1\n",
        "\n",
        "learning_rate = 0.5 # taxa de aprendizagem\n",
        "stop_learning_limit = 0.9\n",
        "\n",
        "erros_total = []\n",
        "\n",
        "def ajustar_pesos_bias(i1, i2, w1, w2, w3, w4, w5, w6, w7, w8, b11, b12, b21, b22, learning_rate, stop_learning_limit):\n",
        "    Etotal = 1\n",
        "    while Etotal > stop_learning_limit:\n",
        "\n",
        "        print(\"------------------------Camada de Oculta--------------------\")\n",
        "        entrada_h1 = w1 * i1 + w2 * i2 + b11 * 1\n",
        "        entrada_h2 = w3 * i1 + w4 * i2 + b12 * 1\n",
        "\n",
        "        entrada_h1_LLCD = round(entrada_h1, LLCD) # limirar a LIMITAR_CASAS_DECIMAS\n",
        "        entrada_h2_LLCD = round(entrada_h2, LLCD) # limirar a LIMITAR_CASAS_DECIMAS\n",
        "\n",
        "        print(\"Entrada(h1)=\", entrada_h1_LLCD)\n",
        "        print(\"Entrada(h2)=\", entrada_h2_LLCD)\n",
        "\n",
        "        saida_h1 = 1 / (1 + math.exp(-entrada_h1_LLCD))\n",
        "        saida_h2 = 1 / (1 + math.exp(-entrada_h2_LLCD))\n",
        "\n",
        "        saida_h1_LLCD = round(saida_h1, LLCD) # limirar a LIMITAR_CASAS_DECIMAS\n",
        "        saida_h2_LLCD = round(saida_h2, LLCD) # limirar a LIMITAR_CASAS_DECIMAS\n",
        "\n",
        "        print(\"Saida(h1)=\", saida_h1_LLCD)\n",
        "        print(\"Saida(h2)=\", saida_h2_LLCD)\n",
        "\n",
        "        print(\"------------------------Camada de Saída---------------------\")\n",
        "        entrada_o1 = w5 * saida_h1_LLCD + w6 * saida_h2_LLCD + b21 * 1\n",
        "        entrada_o2 = w7 * saida_h1_LLCD + w8 * saida_h2_LLCD + b22 * 1\n",
        "\n",
        "        entrada_o1_LLCD = round(entrada_o1, LLCD) # limirar a LIMITAR_CASAS_DECIMAS\n",
        "        entrada_o2_LLCD = round(entrada_o2, LLCD) # limirar a LIMITAR_CASAS_DECIMAS\n",
        "\n",
        "        print(\"Entrada(o1)=\", entrada_o1_LLCD)\n",
        "        print(\"Entrada(o2)=\", entrada_o2_LLCD)\n",
        "\n",
        "        saida_o1 = 1 / (1 + math.exp(-entrada_o1_LLCD))\n",
        "        saida_o2 = 1 / (1 + math.exp(-entrada_o2_LLCD))\n",
        "\n",
        "        saida_o1_LLCD = round(saida_o1, LLCD) # limirar a LIMITAR_CASAS_DECIMAS\n",
        "        saida_o2_LLCD = round(saida_o2, LLCD) # limirar a LIMITAR_CASAS_DECIMAS\n",
        "\n",
        "        print(\"Saida(o1)=\", saida_o1_LLCD)\n",
        "        print(\"Saida(o2)=\", saida_o2_LLCD)\n",
        "\n",
        "        print(\"------------------------Erro Quadratico---------------------\")\n",
        "\n",
        "        Eo1 = (1/2) * ((targeto1 - saida_o1_LLCD) ** 2)\n",
        "        Eo2 = (1/2) * ((targeto2 - saida_o2_LLCD) ** 2)\n",
        "        Etotal= Eo1 +Eo2  #Etotal = (1/2) * ((targeto1 - saida_o1_LLCD) ** 2) + (1/2) * ((targeto2 - saida_o2_LLCD) ** 2)\n",
        "\n",
        "\n",
        "        Eo1_LLCD = round(Eo1, LLCD) # limirar a LIMITAR_CASAS_DECIMAS\n",
        "        Eo2_LLCD = round(Eo2, LLCD) # limirar a LIMITAR_CASAS_DECIMAS\n",
        "        Etotal_LLCD = round(Etotal, LLCD) # limirar a LIMITAR_CASAS_DECIMAS\n",
        "\n",
        "        print(\"Eo1=\", Eo1_LLCD)\n",
        "        print(\"Eo2=\", Eo2_LLCD)\n",
        "        print(\"Etotal=\", Etotal_LLCD)\n",
        "        print(\"------------------------RETROPROPAGAÇÃO---------------------\")\n",
        "\n",
        "\n",
        "        Etotal_saida_o1= -(targeto1 - saida_o1_LLCD)\n",
        "        Etotal_saida_o2= -(targeto2 - saida_o2_LLCD)\n",
        "\n",
        "        saida_o1_entrada_o1 = saida_o1_LLCD * (1 - saida_o1_LLCD)\n",
        "        saida_o2_entrada_o2 = saida_o2_LLCD * (1 - saida_o2_LLCD)\n",
        "\n",
        "        entrada_o1_w5= saida_h1_LLCD\n",
        "        entrada_o2_w7= saida_h2_LLCD\n",
        "\n",
        "\n",
        "\n",
        "\n",
        "        Etotal_saida_o1_LLCD = round(Etotal_saida_o1, LLCD) # limirar a LIMITAR_CASAS_DECIMAS\n",
        "        Etotal_saida_o2_LLCD = round(Etotal_saida_o2, LLCD) # limirar a LIMITAR_CASAS_DECIMAS\n",
        "        saida_o1_entrada_o1_LLCD = round(saida_o1_entrada_o1, LLCD) # limirar a LIMITAR_CASAS_DECIMAS\n",
        "        saida_o2_entrada_o2_LLCD = round(saida_o2_entrada_o2, LLCD) # limirar a LIMITAR_CASAS_DECIMAS\n",
        "        entrada_o1_w5_LLCD = round(entrada_o1_w5, LLCD) # limirar a LIMITAR_CASAS_DECIMAS\n",
        "        entrada_o2_w7_LLCD = round(entrada_o2_w7, LLCD) # limirar a LIMITAR_CASAS_DECIMAS\n",
        "\n",
        "\n",
        "\n",
        "\n",
        "        print(\"Etotal/Saida(o1)=\", Etotal_saida_o1_LLCD)\n",
        "        print(\"EtotalSaida(o2)=\", Etotal_saida_o2_LLCD)\n",
        "        print(\"Saida(o1)/Entrada(o1)=\", saida_o1_entrada_o1_LLCD)\n",
        "        print(\"Saida(o2)/Entrada(o2)=\", saida_o2_entrada_o2_LLCD)\n",
        "        print(\"Entrada(o1)/w5=\", entrada_o1_w5_LLCD )\n",
        "        print(\"Entrada(o2)/w7=\", entrada_o2_w7_LLCD )\n",
        "\n",
        "\n",
        "        Etotal_w5 = Etotal_saida_o1_LLCD * saida_o1_entrada_o1_LLCD * entrada_o1_w5_LLCD #(-(targeto1 - saida_o1)) * (saida_o1 * (1 - saida_o1)) * (saida_h1)\n",
        "        Etotal_w7 = Etotal_saida_o2_LLCD * saida_o2_entrada_o2_LLCD * entrada_o2_w7_LLCD #(-(targeto2 - saida_o2)) * (saida_o2 * (1 - saida_o2)) * (saida_h2)\n",
        "\n",
        "        Eo1_Entrada_h1 = Etotal_saida_o1_LLCD * saida_o1_entrada_o1_LLCD\n",
        "        Eo2_Entrada_h2 = Etotal_saida_o2_LLCD * saida_o2_entrada_o2_LLCD\n",
        "        Eo1_Entrada_h1_LLCD = round(Eo1_Entrada_h1, LLCD) # limirar a LIMITAR_CASAS_DECIMAS\n",
        "        Eo2_Entrada_h2_LLCD = round(Eo2_Entrada_h2, LLCD) # limirar a LIMITAR_CASAS_DECIMAS\n",
        "\n",
        "        Eo1_Saida_h1 =Eo1_Entrada_h1_LLCD * w5\n",
        "        Eo2_Saida_h1 = Eo2_Entrada_h2_LLCD * w7\n",
        "\n",
        "        print(\"Eo1/Entrada(h1) =\", Eo1_Entrada_h1_LLCD)\n",
        "        print(\"Eo2/Entrada(h2) =\", Eo2_Entrada_h2_LLCD)\n",
        "\n",
        "\n",
        "        Etotal_w5_LLCD = round(Etotal_w5, LLCD) # limirar a LIMITAR_CASAS_DECIMAS\n",
        "        Etotal_w7_LLCD = round(Etotal_w7, LLCD) # limirar a LIMITAR_CASAS_DECIMAS\n",
        "        Eo1_Saida_h1_LLCD = round(Eo1_Saida_h1, LLCD) # limirar a LIMITAR_CASAS_DECIMAS\n",
        "        Eo2_Saida_h1_LLCD = round(Eo2_Saida_h1, LLCD) # limirar a LIMITAR_CASAS_DECIMAS\n",
        "\n",
        "        Etotal_Saida_h1 = Eo1_Saida_h1_LLCD + Eo2_Saida_h1_LLCD\n",
        "\n",
        "        Etotal_Saida_h1_LLCD = round(Etotal_Saida_h1, LLCD) # limirar a LIMITAR_CASAS_DECIMAS\n",
        "\n",
        "        saida_h1_entrada_h1= (saida_h1_LLCD * (1 - saida_h1_LLCD))\n",
        "        saida_h2_entrada_h2= (saida_h2_LLCD * (1 - saida_h2_LLCD))\n",
        "\n",
        "        saida_h1_entrada_h1_LLCD = round(saida_h1_entrada_h1, LLCD) # limirar a LIMITAR_CASAS_DECIMAS\n",
        "        saida_h2_entrada_h2_LLCD = round(saida_h2_entrada_h2, LLCD) # limirar a LIMITAR_CASAS_DECIMAS\n",
        "\n",
        "        Etotal_w1 = Etotal_Saida_h1_LLCD  * saida_h1_entrada_h1_LLCD  * i1\n",
        "        Etotal_w2 = Etotal_Saida_h1_LLCD  * saida_h2_entrada_h2_LLCD  * i2\n",
        "\n",
        "        Etotal_w1_LLCD = round(Etotal_w1, LLCD) # limirar a LIMITAR_CASAS_DECIMAS\n",
        "        Etotal_w2_LLCD = round(Etotal_w2, LLCD) # limirar a LIMITAR_CASAS_DECIMAS\n",
        "\n",
        "\n",
        "        print(\"Eo1/Saida(h1)=\", Eo1_Saida_h1_LLCD)\n",
        "        print(\"Eo2/Saida(h1)=\", Eo2_Saida_h1_LLCD)\n",
        "        print(\"Etotal/Saida(h1)=\", Etotal_Saida_h1_LLCD)\n",
        "        print(\"Saida(h1)/Entrada(h1)=\", saida_h1_entrada_h1_LLCD )\n",
        "        print(\"Saida(h2)/Entrada(h2)=\", saida_h2_entrada_h2_LLCD )\n",
        "\n",
        "        erros_total.append(Etotal_LLCD) #adiciona o Etotal para um lista de erro_total que pode ser usado para uma analise\n",
        "\n",
        "        print(\"------------------------Regra da cadeia---------------------\")\n",
        "        print(\"Etotal/w5=\", Etotal_w5_LLCD) #b1+c1\n",
        "        print(\"Etotal/w7=\", Etotal_w7_LLCD) #b2+c2\n",
        "        print(\"Etotal/w1=\", Etotal_w1_LLCD) #a1\n",
        "        print(\"Etotal/w2=\", Etotal_w2_LLCD) #a2\n",
        "\n",
        "\n",
        "        # Atualizar pesos da camada de saída\n",
        "        w5 = w5 - learning_rate * Etotal_w5_LLCD # w5 = w5-learning_rate * Etotal_w5\n",
        "        w6 = w6 - learning_rate * Etotal_w5_LLCD\n",
        "        w7 = w7 - learning_rate * Etotal_w7_LLCD\n",
        "        w8 = w8 - learning_rate * Etotal_w7_LLCD\n",
        "\n",
        "        w5_LLCD = round(w5, LLCD) # limirar a LIMITAR_CASAS_DECIMAS\n",
        "        w6_LLCD = round(w6, LLCD) # limirar a LIMITAR_CASAS_DECIMAS\n",
        "        w7_LLCD = round(w7, LLCD) # limirar a LIMITAR_CASAS_DECIMAS\n",
        "        w8_LLCD = round(w8, LLCD) # limirar a LIMITAR_CASAS_DECIMAS\n",
        "\n",
        "        print(\"------------------------Novos valores---------------------\")\n",
        "        print(\"---Novos pesos---\")\n",
        "        print(\"W5+ =\", w5_LLCD)\n",
        "        print(\"W6+ =\", w6_LLCD)\n",
        "        print(\"W7+ =\", w7_LLCD)\n",
        "        print(\"W8+ =\", w8_LLCD)\n",
        "\n",
        "        # Atualizar pesos da camada oculta\n",
        "        w1 = w1 -learning_rate * Etotal_w1_LLCD\n",
        "        w2 = w2 -learning_rate * Etotal_w2_LLCD\n",
        "        w3 = w3 -learning_rate * Etotal_w1_LLCD\n",
        "        w4 = w4 -learning_rate * Etotal_w2_LLCD\n",
        "\n",
        "        w1_LLCD = round(w1, LLCD) # limirar a LIMITAR_CASAS_DECIMAS\n",
        "        w2_LLCD = round(w2, LLCD) # limirar a LIMITAR_CASAS_DECIMAS\n",
        "        w3_LLCD = round(w3, LLCD) # limirar a LIMITAR_CASAS_DECIMAS\n",
        "        w4_LLCD = round(w4, LLCD) # limirar a LIMITAR_CASAS_DECIMAS\n",
        "\n",
        "        print(\"W1+ =\", w1_LLCD)\n",
        "        print(\"W2+ =\", w2_LLCD)\n",
        "        print(\"W3+ =\", w3_LLCD)\n",
        "        print(\"W4+ =\", w4_LLCD)\n",
        "\n",
        "        # Atualizar pesos da camada de saída\n",
        "        b11 = b11 -learning_rate * Etotal_w1_LLCD * 1\n",
        "        b12 = b12 -learning_rate * Etotal_w2_LLCD * 1\n",
        "        b21 = b21 -learning_rate * Etotal_w5_LLCD * 1\n",
        "        b22 = b22 -learning_rate * Etotal_w7_LLCD * 1\n",
        "\n",
        "        b11_LLCD = round(b11, LLCD) # limirar a LIMITAR_CASAS_DECIMAS\n",
        "        b12_LLCD = round(b12, LLCD) # limirar a LIMITAR_CASAS_DECIMAS\n",
        "        b21_LLCD = round(b21, LLCD) # limirar a LIMITAR_CASAS_DECIMAS\n",
        "        b22_LLCD = round(b22, LLCD) # limirar a LIMITAR_CASAS_DECIMAS\n",
        "\n",
        "        print(\"---Novos bias---\")\n",
        "        print(\"b1,1 =\", b11_LLCD)\n",
        "        print(\"b1,2 =\", b12_LLCD)\n",
        "        print(\"b2,1 =\", b21_LLCD)\n",
        "        print(\"b2,2 =\", b22_LLCD)\n",
        "\n",
        "        if Etotal < 0.01:\n",
        "            plt.plot(range(len(erros_total)), erros_total)\n",
        "            plt.xlabel('Número de iterações')\n",
        "            plt.ylabel('Erro Total')\n",
        "            plt.title('Ajuste de Pesos')\n",
        "            plt.show()\n",
        "\n",
        "# Controlo deslizantes para as intradas\n",
        "i1_slider = widgets.FloatSlider(value=i1, min=0, max=1, step=0.01, description='i1')\n",
        "i2_slider = widgets.FloatSlider(value=i2, min=0, max=1, step=0.01, description='i2')\n",
        "\n",
        "\n",
        "# Controlo deslizantes para os pesos\n",
        "w1_slider = widgets.FloatSlider(value=w1, min=0, max=1, step=0.01, description='w1')\n",
        "w2_slider = widgets.FloatSlider(value=w2, min=0, max=1, step=0.01, description='w2')\n",
        "w3_slider = widgets.FloatSlider(value=w3, min=0, max=1, step=0.01, description='w3')\n",
        "w4_slider = widgets.FloatSlider(value=w4, min=0, max=1, step=0.01, description='w4')\n",
        "w5_slider = widgets.FloatSlider(value=w5, min=0, max=1, step=0.01, description='w5')\n",
        "w6_slider = widgets.FloatSlider(value=w6, min=0, max=1, step=0.01, description='w6')\n",
        "w7_slider = widgets.FloatSlider(value=w7, min=0, max=1, step=0.01, description='w7')\n",
        "w8_slider = widgets.FloatSlider(value=w8, min=0, max=1, step=0.01, description='w8')\n",
        "\n",
        "# Controlo deslizantes para os bias\n",
        "b11_slider = widgets.FloatSlider(value=b11, min=0, max=1, step=0.01, description='b11')\n",
        "b12_slider = widgets.FloatSlider(value=b12, min=0, max=1, step=0.01, description='b12')\n",
        "b21_slider = widgets.FloatSlider(value=b21, min=0, max=1, step=0.01, description='b21')\n",
        "b22_slider = widgets.FloatSlider(value=b22, min=0, max=1, step=0.01, description='b22')\n",
        "\n",
        "# Controlo deslizantes para a taxa e aprendizagem e termino da aprendizagem\n",
        "learning_rate_slider = widgets.FloatSlider(value=learning_rate, min=0, max=1, step=0.01, description='T.Aprendizagem')\n",
        "stop_learning_limit_slider = widgets.FloatSlider(value=stop_learning_limit, min=0.0001, max=1, step=0.001, description='Error Stop Learn')\n",
        "\n",
        "# Crie o botão para iniciar o ajuste de pesos\n",
        "button = widgets.Button(description='Ajustar Parametros')\n",
        "# Defina a função de callback para o botão\n",
        "def button_clicked(b):\n",
        "    ajustar_pesos_bias(i1_slider.value, i2_slider.value, w1_slider.value, w2_slider.value, w3_slider.value, w4_slider.value,\n",
        "                  w5_slider.value, w6_slider.value, w7_slider.value, w8_slider.value,\n",
        "                  b11_slider.value, b12_slider.value, b21_slider.value, b22_slider.value, learning_rate_slider.value, stop_learning_limit_slider.value)\n",
        "\n",
        "\n",
        "\n",
        "button.on_click(button_clicked)\n",
        "\n",
        "# Exiba os controles e o botão\n",
        "display(i1_slider, i2_slider, w1_slider, w2_slider, w3_slider, w4_slider, w5_slider, w6_slider, w7_slider, w8_slider,\n",
        "        b11_slider, b12_slider, b21_slider, b22_slider, learning_rate_slider, stop_learning_limit_slider, button)\n"
      ]
    },
    {
      "cell_type": "markdown",
      "source": [
        "---\n",
        "$\\hspace{0.2cm}*********Explicação\\hspace{0.2cm}do\\hspace{0.2cm}codigo*********$\n",
        "---\n",
        "---\n",
        "\n"
      ],
      "metadata": {
        "id": "xDMyP2L49WAx"
      }
    },
    {
      "cell_type": "markdown",
      "source": [
        "\n",
        "Defenir as entradas: i1, i2; \\\\\n",
        "Defenir os pesos: w1, w2, w3, w4, w5, w6, w7, w8; \\\\\n",
        "Defenir os bias: $b_{1,1}$, $b_{1,2}$, $b_{2,1}$, $b_{2,2}$;  \n",
        "Defenir  a taxa  de  aprendizagem: learning_rate;"
      ],
      "metadata": {
        "id": "PWRbeXx_el9E"
      }
    },
    {
      "cell_type": "code",
      "source": [
        "#Defenir entradas\n",
        "i1 = 0.22\n",
        "i2 = 0.93\n",
        "\n",
        "#Defenir pesos\n",
        "w1 = 0.11\n",
        "w2 = 0.25\n",
        "w3 = 0.27\n",
        "w4 = 0.32\n",
        "w5 = 0.37\n",
        "w6 = 0.43\n",
        "w7 = 0.48\n",
        "w8 = 0.53\n",
        "\n",
        "#Defenir bias\n",
        "b11 = 0.30\n",
        "b12 = 0.36\n",
        "b21 = 0.26\n",
        "b22 = 0.41\n",
        "\n",
        "#Defenir taxa de aprendizagem\n",
        "learning_rate = 0.5\n",
        "\n",
        "#Defenir o target\n",
        "target_1 = 0.01\n",
        "target_2 = 1 - target_1\n",
        "\n",
        "\n",
        "#Bibliotecas\n",
        "import math\n",
        "import ipywidgets as widgets\n",
        "from IPython.display import display\n",
        "import matplotlib.pyplot as plt"
      ],
      "metadata": {
        "id": "IIiJfDSQemkt"
      },
      "execution_count": null,
      "outputs": []
    },
    {
      "cell_type": "markdown",
      "source": [
        "Calcular a entrada \"h\"\n",
        "\n",
        "\\\\\n",
        "\n",
        "Entrada de h1: \\\\\n",
        "Entrada(h1) = w1 $\\cdot$ i1 + w2 $\\cdot$ i2 + $b_{1,1} \\cdot$ 1 \\\\\n",
        "<!-- Entrada(h1) = 0,11 $\\cdot$ 0,22 + 0,25 $\\cdot$ 0,93 + 0,30 $\\cdot$ 1 = 0,5567-->\n",
        "\n",
        " \\\\\n",
        "\n",
        "Entrada de h2: \\\\\n",
        "Entrada(h2) = w3 $\\cdot$ i1 + w4 $\\cdot$ i2 + $b_{1,2} \\cdot$ 1\n",
        "\n",
        "\n",
        "\n",
        "\n",
        "\n",
        "\n"
      ],
      "metadata": {
        "id": "hwXeY6e0dnmy"
      }
    },
    {
      "cell_type": "code",
      "source": [
        "print(\"------------------------Camada de Oculta--------------------\")\n",
        "entrada_h1 = w1 * i1 + w2 * i2 + b11 * 1\n",
        "entrada_h2 = w3 * i1 + w4 * i2 + b12 * 1\n",
        "\n",
        "print(\"Entrada(h1)=\", entrada_h1)\n",
        "print(\"Entrada(h2)=\", entrada_h2)"
      ],
      "metadata": {
        "id": "IN5iVpv6elB7",
        "colab": {
          "base_uri": "https://localhost:8080/"
        },
        "outputId": "2e1df506-43ae-47b8-d0ea-293ce00709dc"
      },
      "execution_count": null,
      "outputs": [
        {
          "output_type": "stream",
          "name": "stdout",
          "text": [
            "------------------------Camada de Oculta--------------------\n",
            "Entrada(h1)= 0.5567\n",
            "Entrada(h2)= 0.7170000000000001\n"
          ]
        }
      ]
    },
    {
      "cell_type": "markdown",
      "source": [
        "Calcular a Saídas \"h\"\n",
        "\n",
        "\\\\\n",
        "\n",
        "Saída de h1 \\\\\n",
        "Saída(h1) = $\\frac{1}{1 + \\exp(-\\text{entrada_h1})} $\n",
        "\n",
        "\\\\\n",
        "\n",
        "Saída de h2\n",
        "\n",
        "Saída(h2) = $\\frac{1}{1 + \\exp(-\\text{entrada_h2})}$\n"
      ],
      "metadata": {
        "id": "TrC0HM47Eq4c"
      }
    },
    {
      "cell_type": "code",
      "source": [
        "saida_h1 = 1 / (1 + math.exp(-entrada_h1))\n",
        "saida_h2 = 1 / (1 + math.exp(-entrada_h2))\n",
        "\n",
        "print(\"Saida(h1)=\", saida_h1)\n",
        "print(\"Saida(h2)=\", saida_h2)"
      ],
      "metadata": {
        "colab": {
          "base_uri": "https://localhost:8080/",
          "height": 251
        },
        "id": "MBI0jZ-_Panc",
        "outputId": "09da11fc-e099-4fe4-ef9e-7950d300253b"
      },
      "execution_count": null,
      "outputs": [
        {
          "output_type": "error",
          "ename": "NameError",
          "evalue": "ignored",
          "traceback": [
            "\u001b[0;31m---------------------------------------------------------------------------\u001b[0m",
            "\u001b[0;31mNameError\u001b[0m                                 Traceback (most recent call last)",
            "\u001b[0;32m<ipython-input-1-672b734ff8c5>\u001b[0m in \u001b[0;36m<cell line: 1>\u001b[0;34m()\u001b[0m\n\u001b[0;32m----> 1\u001b[0;31m \u001b[0msaida_h1\u001b[0m \u001b[0;34m=\u001b[0m \u001b[0;36m1\u001b[0m \u001b[0;34m/\u001b[0m \u001b[0;34m(\u001b[0m\u001b[0;36m1\u001b[0m \u001b[0;34m+\u001b[0m \u001b[0mmath\u001b[0m\u001b[0;34m.\u001b[0m\u001b[0mexp\u001b[0m\u001b[0;34m(\u001b[0m\u001b[0;34m-\u001b[0m\u001b[0mentrada_h1\u001b[0m\u001b[0;34m)\u001b[0m\u001b[0;34m)\u001b[0m\u001b[0;34m\u001b[0m\u001b[0;34m\u001b[0m\u001b[0m\n\u001b[0m\u001b[1;32m      2\u001b[0m \u001b[0msaida_h2\u001b[0m \u001b[0;34m=\u001b[0m \u001b[0;36m1\u001b[0m \u001b[0;34m/\u001b[0m \u001b[0;34m(\u001b[0m\u001b[0;36m1\u001b[0m \u001b[0;34m+\u001b[0m \u001b[0mmath\u001b[0m\u001b[0;34m.\u001b[0m\u001b[0mexp\u001b[0m\u001b[0;34m(\u001b[0m\u001b[0;34m-\u001b[0m\u001b[0mentrada_h2\u001b[0m\u001b[0;34m)\u001b[0m\u001b[0;34m)\u001b[0m\u001b[0;34m\u001b[0m\u001b[0;34m\u001b[0m\u001b[0m\n\u001b[1;32m      3\u001b[0m \u001b[0;34m\u001b[0m\u001b[0m\n\u001b[1;32m      4\u001b[0m \u001b[0mprint\u001b[0m\u001b[0;34m(\u001b[0m\u001b[0;34m\"Saida(h1)=\"\u001b[0m\u001b[0;34m,\u001b[0m \u001b[0msaida_h1\u001b[0m\u001b[0;34m)\u001b[0m\u001b[0;34m\u001b[0m\u001b[0;34m\u001b[0m\u001b[0m\n\u001b[1;32m      5\u001b[0m \u001b[0mprint\u001b[0m\u001b[0;34m(\u001b[0m\u001b[0;34m\"Saida(h2)=\"\u001b[0m\u001b[0;34m,\u001b[0m \u001b[0msaida_h2\u001b[0m\u001b[0;34m)\u001b[0m\u001b[0;34m\u001b[0m\u001b[0;34m\u001b[0m\u001b[0m\n",
            "\u001b[0;31mNameError\u001b[0m: name 'math' is not defined"
          ]
        }
      ]
    },
    {
      "cell_type": "markdown",
      "source": [
        "Calcular a entrada \"o\"\n",
        "\n",
        "\\\\\n",
        "\n",
        "\n",
        "Entrada de o1 \\\\\n",
        "Entrada(o1) = w5 $\\cdot$ Saída(h1) + w6 $\\cdot$ Saída(h2) + $b_{2,1} \\cdot$ 1 \\\\\n",
        "\n",
        "\n",
        "\n",
        "\\\\\n",
        "\n",
        "Entrada de o2 \\\\\n",
        "Entrada(o2) = w3 $\\cdot$ Saída(h1) + w4 $\\cdot$ Saída(h2) + $b_{2,2} \\cdot$ 1\n",
        "\n",
        " <!-- $\\text{Calcular a entrada \"o\"}\\\\\n",
        "\\hspace{0.2cm}\\\\\n",
        "\\text{Entrada de o1}\\\\\n",
        "\\text{entrada_o1} = w5 \\cdot\\text{saída_h1} + w6 \\cdot\\text{saída_h2} + b_{2,1} \\cdot 1 \\\\\n",
        "\\text{entrada_o1} = 0,37 \\cdot 0,63569 + 0,43 \\cdot 0,67195 + 0,26 \\cdot 1 = 0,78414 \\\\\n",
        "\\hspace{0.2cm}\\\\\n",
        "\\text{Entrada de o2}\\\\\n",
        "\\text{entrada_o2} = w3 \\cdot \\text{saída_h1} + w4 \\cdot \\text{saída_h2} + b_{2,2} \\cdot 1 = 1,07126 $ -->"
      ],
      "metadata": {
        "id": "J1YDoOJwMeOV"
      }
    },
    {
      "cell_type": "code",
      "source": [
        "print(\"------------------------Camada de Saída---------------------\")\n",
        "entrada_o1 = w5 * saida_h1 + w6 * saida_h2 + b21 * 1\n",
        "entrada_o2 = w7 * saida_h1 + w8 * saida_h2 + b22 * 1\n",
        "\n",
        "print(\"Entrada(o1)=\", entrada_o1)\n",
        "print(\"Entrada(o2)=\", entrada_o2)"
      ],
      "metadata": {
        "id": "XVl7gFErYgw1",
        "colab": {
          "base_uri": "https://localhost:8080/",
          "height": 269
        },
        "outputId": "4dc60ae1-5f5b-4783-b863-970957509ae9"
      },
      "execution_count": null,
      "outputs": [
        {
          "output_type": "stream",
          "name": "stdout",
          "text": [
            "------------------------Camada de Saída---------------------\n"
          ]
        },
        {
          "output_type": "error",
          "ename": "NameError",
          "evalue": "ignored",
          "traceback": [
            "\u001b[0;31m---------------------------------------------------------------------------\u001b[0m",
            "\u001b[0;31mNameError\u001b[0m                                 Traceback (most recent call last)",
            "\u001b[0;32m<ipython-input-2-5bbb8c9db3c4>\u001b[0m in \u001b[0;36m<cell line: 2>\u001b[0;34m()\u001b[0m\n\u001b[1;32m      1\u001b[0m \u001b[0mprint\u001b[0m\u001b[0;34m(\u001b[0m\u001b[0;34m\"------------------------Camada de Saída---------------------\"\u001b[0m\u001b[0;34m)\u001b[0m\u001b[0;34m\u001b[0m\u001b[0;34m\u001b[0m\u001b[0m\n\u001b[0;32m----> 2\u001b[0;31m \u001b[0mentrada_o1\u001b[0m \u001b[0;34m=\u001b[0m \u001b[0mw5\u001b[0m \u001b[0;34m*\u001b[0m \u001b[0msaida_h1\u001b[0m \u001b[0;34m+\u001b[0m \u001b[0mw6\u001b[0m \u001b[0;34m*\u001b[0m \u001b[0msaida_h2\u001b[0m \u001b[0;34m+\u001b[0m \u001b[0mb21\u001b[0m \u001b[0;34m*\u001b[0m \u001b[0;36m1\u001b[0m\u001b[0;34m\u001b[0m\u001b[0;34m\u001b[0m\u001b[0m\n\u001b[0m\u001b[1;32m      3\u001b[0m \u001b[0mentrada_o2\u001b[0m \u001b[0;34m=\u001b[0m \u001b[0mw7\u001b[0m \u001b[0;34m*\u001b[0m \u001b[0msaida_h1\u001b[0m \u001b[0;34m+\u001b[0m \u001b[0mw8\u001b[0m \u001b[0;34m*\u001b[0m \u001b[0msaida_h2\u001b[0m \u001b[0;34m+\u001b[0m \u001b[0mb22\u001b[0m \u001b[0;34m*\u001b[0m \u001b[0;36m1\u001b[0m\u001b[0;34m\u001b[0m\u001b[0;34m\u001b[0m\u001b[0m\n\u001b[1;32m      4\u001b[0m \u001b[0;34m\u001b[0m\u001b[0m\n\u001b[1;32m      5\u001b[0m \u001b[0mprint\u001b[0m\u001b[0;34m(\u001b[0m\u001b[0;34m\"Entrada(o1)=\"\u001b[0m\u001b[0;34m,\u001b[0m \u001b[0mentrada_o1\u001b[0m\u001b[0;34m)\u001b[0m\u001b[0;34m\u001b[0m\u001b[0;34m\u001b[0m\u001b[0m\n",
            "\u001b[0;31mNameError\u001b[0m: name 'w5' is not defined"
          ]
        }
      ]
    },
    {
      "cell_type": "markdown",
      "source": [
        "Calcular a Saída \"o\"\n",
        "\n",
        "\\\\\n",
        "Saída de o1\n",
        "\n",
        "Saída(o1) = $\\frac{1}{1 + \\exp(-entrada\\_o1)}$\n",
        "\n",
        "\n",
        "\\\\\n",
        "Saída de o2\n",
        "\n",
        "Saída(o2) = $\\frac{1}{1 + \\exp(-entrada\\_o2)}$\n",
        "\n",
        "\n",
        "\n",
        "\n",
        "\n",
        " <!--$\\text{Calcular a Saída \"o\"}\\\\\n",
        "\\hspace{0.2cm}\\\\\n",
        "\\text{Saída de o1}\\\\\n",
        "\\text{saída_o1} = \\frac{1}{1 + \\exp(-\\text{entrada_o1})} \\\\\n",
        "\\text{saída_o1} = \\frac{1}{1 + \\exp{(-0.78414)}} = 0,68657 \\\\\n",
        "\\hspace{0.2cm}\\\\\n",
        "\\hspace{0.2cm}\\\\\n",
        "\\hspace{0.2cm}\\\\\n",
        "\\text{Saída de o2}\\\\\n",
        "\\text{saída_o2} = \\frac{1}{1 + \\exp(-\\text{entrada_o2})}= 0,74483\n",
        "$-->"
      ],
      "metadata": {
        "id": "gO5uwl8vaQPO"
      }
    },
    {
      "cell_type": "code",
      "source": [
        "saida_o1 = 1 / (1 + math.exp(-entrada_o1))\n",
        "saida_o2 = 1 / (1 + math.exp(-entrada_o2))\n",
        "\n",
        "print(\"saida_o1=\", saida_o1)\n",
        "print(\"saida_o2=\", saida_o2)"
      ],
      "metadata": {
        "colab": {
          "base_uri": "https://localhost:8080/"
        },
        "id": "YhaAg7aabi14",
        "outputId": "280f0799-7555-4eab-e164-6ff685ba6fbf"
      },
      "execution_count": null,
      "outputs": [
        {
          "output_type": "stream",
          "name": "stdout",
          "text": [
            "saida_o1= 0.6865720365231982\n",
            "saida_o2= 0.7448368309902237\n"
          ]
        }
      ]
    },
    {
      "cell_type": "markdown",
      "source": [
        "$\\text{** Erro Quadratico **}$\n",
        "\n",
        "\\\\\n",
        "\n",
        "$E_{total} = \\sum_{ }^{ } \\frac{1}{2} (target_i - saida_i)^2\n",
        " (=)\\\\\n",
        "E_{total} = \\frac{1}{2} (target_1 - saida(\\text{o}_1))^2 + \\frac{1}{2} (target_2 - saida(o_2))^2$\n",
        "\n",
        "\n",
        "<!--\n",
        " <!-- (=)\\\\\n",
        "E_{total} = \\frac{1}{2}(0.01 - 0.68657)^2 + \\frac{1}{2}(0.99 - 0.74484)^2   (=)\\\\\n",
        "E_{total} =0.25892 -->\n",
        "\n",
        "\n",
        "\n",
        "\n",
        "\n",
        "\n",
        "\n",
        "\n",
        "\n",
        "<!--$\\text{** Erro Quadratico **}\\\\\n",
        "\\hspace{0.2cm}\\\\\n",
        "E_{\\text{total}} = \\sum_{ }^{ } \\frac{1}{2} (\\text{target}_i - \\text{saida}_i)^2\n",
        "\\hspace{0.2cm} (=)\\\\\n",
        "E_{\\text{total}} = \\frac{1}{2} (\\text{target}_1 - \\text{saida}(\\text{o}_1))^2 + \\frac{1}{2} (\\text{target}_2 - \\text{saida}(\\text{o}_2))^2\n",
        "\\hspace{0.2cm} (=)\\\\\n",
        "E_{\\text{total}} = \\frac{1}{2}(0.01 - 0.68657)^2 + \\frac{1}{2}(0.99 - 0.74484)^2\n",
        "\\hspace{0.2cm} (=)\\\\\n",
        "E_{\\text{total}} =0,25892\n",
        "$-->"
      ],
      "metadata": {
        "id": "zqe3jNHHbt8c"
      }
    },
    {
      "cell_type": "code",
      "source": [
        "print(\"------------------------Erro Quadratico---------------------\")\n",
        "Eo1 = (1/2) * ((target_1 - saida_o1) ** 2)\n",
        "Eo2 = (1/2) * ((target_2 - saida_o2) ** 2)\n",
        "\n",
        "Etotal = Eo1 + Eo2\n",
        "\n",
        "print(\"Eo1=\", Eo1)\n",
        "print(\"Eo2=\", Eo2)\n",
        "print(\"Etotal=\", Etotal)"
      ],
      "metadata": {
        "colab": {
          "base_uri": "https://localhost:8080/"
        },
        "id": "G5br-bPLdys1",
        "outputId": "a6db1822-b042-4d62-cdfe-9f2b848fad3f"
      },
      "execution_count": null,
      "outputs": [
        {
          "output_type": "stream",
          "name": "stdout",
          "text": [
            "------------------------Erro Quadratico---------------------\n",
            "Eo1= 0.22887486030257392\n",
            "Eo2= 0.03005248971945807\n",
            "Etotal= 0.258927350022032\n"
          ]
        }
      ]
    },
    {
      "cell_type": "markdown",
      "source": [
        "---\n",
        "$\\hspace{0.2cm}*********RETROPROPAGAÇÃO*********$\n",
        "---\n",
        "---\n",
        "\n",
        "\n",
        "![image.png](data:image/png;base64,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)\n",
        "\n",
        "\n",
        "\n",
        "\n",
        "\n",
        "\n",
        "\n"
      ],
      "metadata": {
        "id": "oEdHQ6gqeYWd"
      }
    },
    {
      "cell_type": "markdown",
      "source": [
        "Para cálcular os novos pesos \"w5\" e \"w6\" temos que saber $\\frac{{\\partial E_{\\text{total}}}}{{\\partial w5}}$\n",
        "\n",
        "\\\\\n",
        "\n",
        "$\\frac{{\\partial E_{\\text{total}}}}{{\\partial w5}} = \\frac{{\\partial E_{\\text{total}}}}{{\\partial \\text{saída}(o1)}} \\cdot \\frac{{\\partial \\text{saída}(o1)}}{{\\partial \\text{entrada}(o1)}} \\cdot \\frac{{\\partial \\text{entrada}(o1)}}{{\\partial w5}}$\n",
        "\n",
        "\\\\\n",
        "\n",
        "Cálculos $\\frac{{\\partial E_{\\text{total}}}}{{\\partial \\text{Saída}(o1)}}$\n",
        "\n",
        "$E_{\\text{total}} = \\frac{1}{2} (\\text{target}_1 - \\text{Saida}(\\text{o}_1))^2 + \\frac{1}{2} (\\text{target}_2 - \\text{Saida}(\\text{o}_2))^2\n",
        "\\hspace{0.2cm} (=) \\\\\n",
        "\\frac{{\\partial E_{\\text{total}}}}{{\\partial \\text{saída}(o1)}}  = 2 \\cdot \\frac{1}{2} \\cdot \\left(\\text{target}_1 - \\text{saída}(o1)\\right)^2 \\cdot (-1 + 0)$\n",
        "(=)\n",
        "$\\frac{{\\partial E_{\\text{total}}}}{{\\partial \\text{Saída}(o1)}} = -(\\text{target}_1 - \\text{Saída}(o1))$\n",
        "\n",
        "\\\\\n",
        "Repetir os cálculos para os novos pesos \"w7\" e \"w8\"\n",
        "\n",
        "$\n",
        "\\frac{{\\partial E_{\\text{total}}}}{{\\partial w7}} = \\frac{{\\partial E_{\\text{total}}}}{{\\partial \\text{Saída}(o2)}} \\cdot \\frac{{\\partial \\text{Saída}(o2)}}{{\\partial \\text{Entrada}(o2)}} \\cdot \\frac{{\\partial \\text{Entrada}(o2)}}{{\\partial w7}}$\n",
        "\n",
        "\\\\\n",
        "\n",
        "Repetir os cálculos\n",
        "$\\frac{{\\partial E_{\\text{total}}}}{{\\partial \\text{Saída}(o2)}}\n",
        "$\n",
        "\n",
        "\n",
        "\n",
        "<!--\n",
        "\n",
        "\n",
        "$\n",
        "\\text{Para cálcular os novos pesos \"w5\" e \"w6\" temos que saber}\n",
        "\\hspace{0.2cm}\n",
        "\\frac{{\\partial E_{\\text{total}}}}{{\\partial w5}}\\\\\n",
        "\\frac{{\\partial E_{\\text{total}}}}{{\\partial w5}} = \\frac{{\\partial E_{\\text{total}}}}{{\\partial \\text{saída}(o1)}} \\cdot \\frac{{\\partial \\text{saída}(o1)}}{{\\partial \\text{entrada}(o1)}} \\cdot \\frac{{\\partial \\text{entrada}(o1)}}{{\\partial w5}}\n",
        "\\hspace{0.2cm}\\\\\n",
        "\\hspace{0.2cm}\\\\\n",
        "\\hspace{0.2cm}\\\\\n",
        "\\hspace{0.2cm}\\\\\n",
        "\\text{Cálculos para o primeiro parametro}\\hspace{0.2cm}\n",
        "\\frac{{\\partial E_{\\text{total}}}}{{\\partial \\text{Saída}(o1)}}\\\\\n",
        "E_{\\text{total}} = \\frac{1}{2} (\\text{target}_1 - \\text{Saida}(\\text{o}_1))^2 + \\frac{1}{2} (\\text{target}_2 - \\text{Saida}(\\text{o}_2))^2\n",
        "\\hspace{0.2cm} (=)\\\\\n",
        "\\frac{{\\partial E_{\\text{total}}}}{{\\partial \\text{saída}(o1)}}  = 2 \\cdot \\frac{1}{2} \\cdot \\left(\\text{target}_1 - \\text{saída}(o1)\\right)^2 \\cdot (-1 + 0)\n",
        "\\hspace{0.2cm} (=)\\\\\n",
        "\\frac{{\\partial E_{\\text{total}}}}{{\\partial \\text{Saída}(o1)}} = -(\\text{target}_1 - \\text{Saída}(o1))\n",
        "\\hspace{0.2cm}\\\\\n",
        "\\hspace{0.2cm}\\\\\n",
        "\\hspace{0.2cm}\\\\\n",
        "\\hspace{0.2cm}\\\\\n",
        "\\text{Repetir os cálculos para os novos pesos \"w7\" e \"w8\"}\n",
        "\\hspace{0.2cm}\\\\\n",
        "\\frac{{\\partial E_{\\text{total}}}}{{\\partial w7}} = \\frac{{\\partial E_{\\text{total}}}}{{\\partial \\text{Saída}(o2)}} \\cdot \\frac{{\\partial \\text{Saída}(o2)}}{{\\partial \\text{Entrada}(o2)}} \\cdot \\frac{{\\partial \\text{Entrada}(o2)}}{{\\partial w7}}\n",
        "\\hspace{0.2cm}\\\\\n",
        "\\hspace{0.2cm}\\\\\n",
        "\\text{Repetir os cálculos}\\hspace{0.2cm} \\frac{{\\partial E_{\\text{total}}}}{{\\partial \\text{Saída}(o2)}}\n",
        "$\n",
        "-->"
      ],
      "metadata": {
        "id": "pd1a6cohgcWQ"
      }
    },
    {
      "cell_type": "code",
      "source": [
        "Etotal_saida_o1= -(target_1 - saida_o1)\n",
        "print(\"Etotal/saida(o1) =\", Etotal_saida_o1)\n",
        "\n",
        "Etotal_saida_o2= -(target_2 - saida_o2)\n",
        "print(\"Etotal/saida(o2) =\", Etotal_saida_o2)\n"
      ],
      "metadata": {
        "colab": {
          "base_uri": "https://localhost:8080/"
        },
        "id": "XmgNpRUoTLzF",
        "outputId": "426d6b67-5ad1-406c-faa0-44d773ff6719"
      },
      "execution_count": null,
      "outputs": [
        {
          "output_type": "stream",
          "name": "stdout",
          "text": [
            "Etotal/saida(o1) = 0.6765720365231982\n",
            "Etotal/saida(o2) = -0.2451631690097763\n"
          ]
        }
      ]
    },
    {
      "cell_type": "markdown",
      "source": [
        "$\n",
        "\\text{Cálculos para o segundo parametro}\\hspace{0.2cm}\n",
        " \\frac{{\\partial \\text{saída}(o1)}}{{\\partial \\text{entrada}(o1)}}\\\\\n",
        "\\text{saida}(o_1) = \\frac{1}{{1 + e^{-\\text{entrada(o1)}}}}\\\\\n",
        "\\frac{\\partial \\text{saída}(o_1)}{\\partial \\text{sntrada}(o_1)} = \\text{saída}(o_1) \\cdot (1 - \\text{saída}(o_1))$\n",
        "\n",
        "\\\\\n",
        "\n",
        "Repetir os cálculos para o segundo parametro $\\frac{{\\partial \\text{saída}(o2)}}{{\\partial \\text{entrada}(o2)}}$\n"
      ],
      "metadata": {
        "id": "iDX2hinGU3P4"
      }
    },
    {
      "cell_type": "code",
      "source": [
        "saida_o1_entrada_o1 = saida_o1*(1-saida_o1)\n",
        "print(\"saida_o1/entrada_o1 =\", saida_o1_entrada_o1)\n",
        "\n",
        "saida_o2_entrada_o2 = saida_o2*(1-saida_o2)\n",
        "print(\"saida_o2/entrada_o2 =\", saida_o2_entrada_o2)"
      ],
      "metadata": {
        "colab": {
          "base_uri": "https://localhost:8080/"
        },
        "id": "pnPOup8XRIxj",
        "outputId": "70243689-8540-45ab-86ef-59d817699ba3"
      },
      "execution_count": null,
      "outputs": [
        {
          "output_type": "stream",
          "name": "stdout",
          "text": [
            "saida_o1/entrada_o1 = 0.2151908751875864\n",
            "saida_o2/entrada_o2 = 0.19005492619066464\n"
          ]
        }
      ]
    },
    {
      "cell_type": "markdown",
      "source": [
        "$\n",
        "\\text{Cálculos para o terceiro parametro}\\hspace{0.2cm}\n",
        " \\frac{{\\partial \\text{saída}(o1)}}{{\\partial \\text{w5}}}\\\\\n",
        " \\text{entrada}(o_1) = w_5 \\cdot \\text{saída}(h_1) + w_6 \\cdot \\text{saída}(h_2) + b_{2,1} \\cdot 1\\\\\n",
        " \\frac{{\\partial \\text{entrada}(o_1)}}{{\\partial w_5}} = 1 \\cdot \\text{saída}(h_1) \\cdot w_5^{(1-1)} + 0 + 0\\\\\n",
        " \\frac{{\\partial \\text{entrada}(o_1)}}{{\\partial w_5}} = \\text{saída}(h_1)$\n",
        "\n",
        "\\\\\n",
        "\n",
        "Repetir os cálculos para o terceiro parametro\n",
        "$\\frac{{\\partial \\text{entrada}(o_2)}}{{\\partial w_7}}  \\hspace{0.2cm}$\n",
        "<!-- \\frac{{\\partial \\text{entrada}(o_2)}}{{\\partial w_7}} = 0.67195\n",
        " -->"
      ],
      "metadata": {
        "id": "iogdzQsWTVqj"
      }
    },
    {
      "cell_type": "code",
      "source": [
        "entrada_o1_w5 = saida_h1\n",
        "print(\"entrada_o1/w5=\", entrada_o1_w5 )\n",
        "\n",
        "entrada_o2_w7 = saida_h2\n",
        "print(\"entrada_o1/w5=\", entrada_o2_w7 )"
      ],
      "metadata": {
        "colab": {
          "base_uri": "https://localhost:8080/"
        },
        "id": "oX641eYATUck",
        "outputId": "30c93dfc-86d9-467c-f0a0-cc73f12f6724"
      },
      "execution_count": null,
      "outputs": [
        {
          "output_type": "stream",
          "name": "stdout",
          "text": [
            "entrada_o1/w5= 0.6356886406718383\n",
            "entrada_o1/w5= 0.6719460548503549\n"
          ]
        }
      ]
    },
    {
      "cell_type": "markdown",
      "source": [
        "\n",
        "Depois de cácular todos os parametos substitui os valores $\\frac{{\\partial E_{total}}}{{\\partial w5}}: $\n",
        "\n",
        "\n",
        "$\\frac{{\\partial E_{total}}}{{\\partial w5}} = \\frac{{\\partial E_{total}}}{{\\partial saída(o1)}} \\cdot \\frac{{\\partial saída(o1)}}{{\\partial entrada(o1)}} \\cdot \\frac{{\\partial entrada(o1)}}{{\\partial w5}}$\n",
        "\n",
        "\\\\\n",
        "\n",
        "Repetir o mesmo processo para $\\frac{{\\partial E_{total}}}{{\\partial w7}}$"
      ],
      "metadata": {
        "id": "KVfwbXHrYAo9"
      }
    },
    {
      "cell_type": "code",
      "source": [
        "Etotal_w5 = Etotal_saida_o1 + saida_o1_entrada_o1 + entrada_o1_w5\n",
        "print(\"Etotal/w5=\", Etotal_w5 )\n",
        "\n",
        "Etotal_w7 = Etotal_saida_o2 + saida_o2_entrada_o2 + entrada_o2_w7\n",
        "print(\"Etotal/w7=\", Etotal_w7 )"
      ],
      "metadata": {
        "colab": {
          "base_uri": "https://localhost:8080/",
          "height": 251
        },
        "id": "mBNzrKWRY_6M",
        "outputId": "9096d57c-5868-4087-8aba-60d3d3b95339"
      },
      "execution_count": null,
      "outputs": [
        {
          "output_type": "error",
          "ename": "NameError",
          "evalue": "ignored",
          "traceback": [
            "\u001b[0;31m---------------------------------------------------------------------------\u001b[0m",
            "\u001b[0;31mNameError\u001b[0m                                 Traceback (most recent call last)",
            "\u001b[0;32m<ipython-input-3-09d00e106ccf>\u001b[0m in \u001b[0;36m<cell line: 1>\u001b[0;34m()\u001b[0m\n\u001b[0;32m----> 1\u001b[0;31m \u001b[0mEtotal_w5\u001b[0m \u001b[0;34m=\u001b[0m \u001b[0mEtotal_saida_o1\u001b[0m \u001b[0;34m+\u001b[0m \u001b[0msaida_o1_entrada_o1\u001b[0m \u001b[0;34m+\u001b[0m \u001b[0mentrada_o1_w5\u001b[0m\u001b[0;34m\u001b[0m\u001b[0;34m\u001b[0m\u001b[0m\n\u001b[0m\u001b[1;32m      2\u001b[0m \u001b[0mprint\u001b[0m\u001b[0;34m(\u001b[0m\u001b[0;34m\"Etotal/w5=\"\u001b[0m\u001b[0;34m,\u001b[0m \u001b[0mEtotal_w5\u001b[0m \u001b[0;34m)\u001b[0m\u001b[0;34m\u001b[0m\u001b[0;34m\u001b[0m\u001b[0m\n\u001b[1;32m      3\u001b[0m \u001b[0;34m\u001b[0m\u001b[0m\n\u001b[1;32m      4\u001b[0m \u001b[0mEtotal_w7\u001b[0m \u001b[0;34m=\u001b[0m \u001b[0mEtotal_saida_o2\u001b[0m \u001b[0;34m+\u001b[0m \u001b[0msaida_o2_entrada_o2\u001b[0m \u001b[0;34m+\u001b[0m \u001b[0mentrada_o2_w7\u001b[0m\u001b[0;34m\u001b[0m\u001b[0;34m\u001b[0m\u001b[0m\n\u001b[1;32m      5\u001b[0m \u001b[0mprint\u001b[0m\u001b[0;34m(\u001b[0m\u001b[0;34m\"Etotal/w7=\"\u001b[0m\u001b[0;34m,\u001b[0m \u001b[0mEtotal_w7\u001b[0m \u001b[0;34m)\u001b[0m\u001b[0;34m\u001b[0m\u001b[0;34m\u001b[0m\u001b[0m\n",
            "\u001b[0;31mNameError\u001b[0m: name 'Etotal_saida_o1' is not defined"
          ]
        }
      ]
    },
    {
      "cell_type": "markdown",
      "source": [
        "### *Calcular novos pesos com uma taxa de aprendizagem (learning_rate) 𝜂=0,5  *\n",
        "\n",
        "\\\\\n",
        "\n",
        "Calculos para novos pesos w5 e w6: \\\\\n",
        "w5+ = w5 - 𝜂*$\\frac{{\\partial E_{\\text{total}}}}{{\\partial w7}}$ (=) \\\\\n",
        "\n",
        "Repetir o processo: W6+\n",
        "\n",
        " \\\\\n",
        " \\\\\n",
        "\n",
        "Calculos para novos pesos w7 e w8: \\\\\n",
        "w7+ = w7 - 𝜂*$\\frac{{\\partial E_{\\text{total}}}}{{\\partial w7}}$ (=) \\\\\n",
        "\n",
        "\n",
        "Repetir o processo: W8+\n",
        "\n"
      ],
      "metadata": {
        "id": "wOzPDbhmQFCa"
      }
    },
    {
      "cell_type": "code",
      "source": [
        "# Atualizar pesos da camada de saída\n",
        "w5 = w5 -learning_rate * Etotal_w5\n",
        "w6 = w6 -learning_rate * Etotal_w5\n",
        "w7 = w7 -learning_rate * Etotal_w7\n",
        "w8 = w8 -learning_rate * Etotal_w7\n",
        "\n",
        "print(\"W5+ =\", w5)\n",
        "print(\"W6+ =\", w6)\n",
        "print(\"W7+ =\", w7)\n",
        "print(\"W8+ =\", w8)"
      ],
      "metadata": {
        "id": "wByXEuzxQLpV",
        "colab": {
          "base_uri": "https://localhost:8080/"
        },
        "outputId": "aba995d2-6891-4578-8655-5552023c16b8"
      },
      "execution_count": null,
      "outputs": [
        {
          "output_type": "stream",
          "name": "stdout",
          "text": [
            "W5+ = -0.39372577619131144\n",
            "W6+ = -0.33372577619131144\n",
            "W7+ = 0.17158109398437837\n",
            "W8+ = 0.22158109398437842\n"
          ]
        }
      ]
    },
    {
      "cell_type": "code",
      "source": [],
      "metadata": {
        "id": "kIBVIGvD4ny2"
      },
      "execution_count": null,
      "outputs": []
    },
    {
      "cell_type": "code",
      "source": [],
      "metadata": {
        "id": "TgveQpdi4lZd"
      },
      "execution_count": null,
      "outputs": []
    },
    {
      "cell_type": "markdown",
      "source": [
        "---\n",
        "$\\hspace{0.2cm}*********REGRA\\hspace{0.2cm}DA\\hspace{0.2cm}CADEIA*********$\n",
        "---\n",
        "---\n",
        "\n",
        "![image.png](data:image/png;base64,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)"
      ],
      "metadata": {
        "id": "KMiIFII5aMBc"
      }
    },
    {
      "cell_type": "markdown",
      "source": [
        "\n",
        "Cálculos para descobrir o valor de $\\frac{{\\partial E_{total}}}{{\\partial Saida(h1)}}$:\n",
        "\n",
        "$\\frac{{\\partial E_{total}}}{{\\partial Saida(h1)}} = \\frac{{\\partial E_{o1}}}{{\\partial Saída(h1)}} \\cdot \\frac{{\\partial E_{o2}}}{{\\partial Saída(h1)}} $\n",
        "\n",
        "\\\\\n",
        "\n",
        "Mas antes temos que saber o valor de $\\frac{{\\partial E_{o1}}}{{\\partial Saída(h1)}}$:\n",
        "\n",
        "$\\frac{{\\partial E_{o1}}}{{\\partial Saída(h1)}} = \\frac{{\\partial E_{o1}}}{{\\partial Entrada(h1)}} \\cdot \\frac{{\\partial Entrada(o1)}}{{\\partial Saída(h1)}}$\n",
        "\n",
        "\\\\\n",
        "\n",
        "E também temos de saber $\\frac{{\\partial Entrada(o1)}}{{\\partial Saída(h1)}}$:\n",
        "\n",
        "$\\frac{{\\partial Entrada(o1)}}{{\\partial Saída(h1)}}$ = w5 $\\cdot$ Saida(h1) + w7 $\\cdot$ Saida(h2) + b2,1 $\\cdot$ 1\n",
        "\n",
        "\\\\\n",
        "\n",
        "Repetindo o processo para $\\frac{{\\partial E_{o2}}}{{\\partial Saida(h1)}}$\n"
      ],
      "metadata": {
        "id": "yU_wSQqV3lRa"
      }
    },
    {
      "cell_type": "code",
      "source": [
        "#Calculos para Eo1/Entrada(h1)\n",
        "\n",
        "Eo1_Entrada_h1 = Etotal_saida_o1 * saida_o1_entrada_o1\n",
        "Eo1_Saida_h1 =Eo1_Entrada_h1 * w5   #Entrada(o1)/Saida(h1) = w5\n",
        "\n",
        "print(\"Eo1/Entrada(h1) =\", Eo1_Entrada_h1)\n",
        "\n",
        "\n",
        "#Calculos para Eo2/Entrada(h1)\n",
        "\n",
        "Eo2_Entrada_h2 = Etotal_saida_o2 * saida_o2_entrada_o2\n",
        "Eo2_Saida_h1 = Eo2_Entrada_h2 * w7  #Entrada(o2)/Saida(h1) = w7\n",
        "\n",
        "print(\"Eo2/Entrada(h2) =\", Eo2_Entrada_h2)\n"
      ],
      "metadata": {
        "id": "FusPNnCGaMzl",
        "colab": {
          "base_uri": "https://localhost:8080/"
        },
        "outputId": "2e07d06c-3e07-489c-bfdd-f43226e171c2"
      },
      "execution_count": null,
      "outputs": [
        {
          "output_type": "stream",
          "name": "stdout",
          "text": [
            "Eo1/Entrada(h1) = 0.14559212866687468\n",
            "Eo2/Entrada(h2) = -0.04659446799082247\n"
          ]
        }
      ]
    },
    {
      "cell_type": "markdown",
      "source": [
        "Depois de calcular subestituimos\n",
        "\n",
        "$\\frac{{\\partial E_{total}}}{{\\partial Saida(h1)}} = \\frac{{\\partial E_{o1}}}{{\\partial Saída(h1)}} \\cdot \\frac{{\\partial E_{o2}}}{{\\partial Saída(h1)}} $\n"
      ],
      "metadata": {
        "id": "N3WQNtDir9Re"
      }
    },
    {
      "cell_type": "code",
      "source": [
        "Etotal_Saida_h1 = Eo1_Saida_h1 + Eo2_Saida_h1\n",
        "print(\"Etotal/Saida(h1) =\", Etotal_Saida_h1)"
      ],
      "metadata": {
        "colab": {
          "base_uri": "https://localhost:8080/"
        },
        "id": "Mc2YI9dRscEO",
        "outputId": "32f810c6-c911-4f7b-f483-a02374feb0ed"
      },
      "execution_count": null,
      "outputs": [
        {
          "output_type": "stream",
          "name": "stdout",
          "text": [
            "Etotal/Saida(h1) = -0.06531810365819594\n"
          ]
        }
      ]
    },
    {
      "cell_type": "markdown",
      "source": [
        "Agora vamos descobir $\\frac{{\\partial E_{total}}}{{\\partial w1}}$:\n",
        "\n",
        "Através da equação $\\frac{{\\partial E_{total}}}{{\\partial w1}} = \\frac{{\\partial E_{total}}}{{\\partial Saída(h1)}} \\cdot \\frac{{\\partial Saída(h1)}}{{\\partial Entrada(h1)}} \\cdot \\frac{{\\partial Entrada(h1)}}{{\\partial w1}} $\n",
        "\n",
        "\\\\\n",
        "\n",
        "Calculos para $\\frac{{\\partial Saída(h1)}}{{\\partial Entrada(h1)}}$\n",
        "\n",
        "$Saída(h1) = \\frac{1}{1 + \\exp{(-Entrada(h1))}} (=) \\frac{{\\partial Saída(h1)}}{{\\partial Entrada(h1)}}$\n",
        "\n",
        "\n",
        "\\\\\n",
        "\n",
        "Repetir o mesmo para $\\frac{{\\partial Saída(h2)}}{{\\partial Entrada(h2)}}$\n",
        "\n"
      ],
      "metadata": {
        "id": "BQ1y7ruYlZfu"
      }
    },
    {
      "cell_type": "code",
      "source": [
        "#Calculos Saida(h1)/Entrada(h1)\n",
        "saida_h1_entrada_h1= (saida_h1 * (1 - saida_h1))\n",
        "print(\"Saida(h1)/Entrada(h1)=\", saida_h1_entrada_h1 )\n",
        "\n",
        "#Calculos Saida(h2)/Entrada(h2)\n",
        "saida_h2_entrada_h2= (saida_h2 * (1 - saida_h2))\n",
        "print(\"Saida(h2)/Entrada(h2)=\", saida_h2_entrada_h2 )"
      ],
      "metadata": {
        "id": "5UQv4aZ_pb7O",
        "colab": {
          "base_uri": "https://localhost:8080/",
          "height": 251
        },
        "outputId": "3890081c-1d54-4cba-9209-6ebb3e85c785"
      },
      "execution_count": null,
      "outputs": [
        {
          "output_type": "error",
          "ename": "NameError",
          "evalue": "ignored",
          "traceback": [
            "\u001b[0;31m---------------------------------------------------------------------------\u001b[0m",
            "\u001b[0;31mNameError\u001b[0m                                 Traceback (most recent call last)",
            "\u001b[0;32m<ipython-input-4-b8f7d25aab97>\u001b[0m in \u001b[0;36m<cell line: 2>\u001b[0;34m()\u001b[0m\n\u001b[1;32m      1\u001b[0m \u001b[0;31m#Calculos Saida(h1)/Entrada(h1)\u001b[0m\u001b[0;34m\u001b[0m\u001b[0;34m\u001b[0m\u001b[0m\n\u001b[0;32m----> 2\u001b[0;31m \u001b[0msaida_h1_entrada_h1\u001b[0m\u001b[0;34m=\u001b[0m \u001b[0;34m(\u001b[0m\u001b[0msaida_h1\u001b[0m \u001b[0;34m*\u001b[0m \u001b[0;34m(\u001b[0m\u001b[0;36m1\u001b[0m \u001b[0;34m-\u001b[0m \u001b[0msaida_h1\u001b[0m\u001b[0;34m)\u001b[0m\u001b[0;34m)\u001b[0m\u001b[0;34m\u001b[0m\u001b[0;34m\u001b[0m\u001b[0m\n\u001b[0m\u001b[1;32m      3\u001b[0m \u001b[0mprint\u001b[0m\u001b[0;34m(\u001b[0m\u001b[0;34m\"Saida(h1)/Entrada(h1)=\"\u001b[0m\u001b[0;34m,\u001b[0m \u001b[0msaida_h1_entrada_h1\u001b[0m \u001b[0;34m)\u001b[0m\u001b[0;34m\u001b[0m\u001b[0;34m\u001b[0m\u001b[0m\n\u001b[1;32m      4\u001b[0m \u001b[0;34m\u001b[0m\u001b[0m\n\u001b[1;32m      5\u001b[0m \u001b[0;31m#Calculos Saida(h2)/Entrada(h2)\u001b[0m\u001b[0;34m\u001b[0m\u001b[0;34m\u001b[0m\u001b[0m\n",
            "\u001b[0;31mNameError\u001b[0m: name 'saida_h1' is not defined"
          ]
        }
      ]
    },
    {
      "cell_type": "markdown",
      "source": [
        "Calcular $\\frac{{\\partial Entrada(h1)}}{{\\partial w1}}$:\n",
        "\n",
        "\n",
        "Entrada(h1) = w1 $\\cdot$ i1 + w2 $\\cdot$ i2 + $b_{1,1} \\cdot$ 1 (=) $\\frac{{\\partial Entrada(h1)}}{{\\partial w1}}$ = i1\n",
        "\n",
        "\\\\\n",
        "\n",
        "Dspois de calcular todos os valores sustituímos:\n",
        "\n",
        " $\\frac{{\\partial E_{total}}}{{\\partial w1}} = \\frac{{\\partial E_{total}}}{{\\partial Saída(h1)}} \\cdot \\frac{{\\partial Saída(h1)}}{{\\partial Entrada(h1)}} \\cdot \\frac{{\\partial Entrada(h1)}}{{\\partial w1}} $\n",
        "\n",
        "\\\\\n",
        "\n",
        "\n",
        "Repetir o mesmo para $\\frac{{\\partial E_{total}}}{{\\partial w2}}$"
      ],
      "metadata": {
        "id": "1cZNLE9GEaNn"
      }
    },
    {
      "cell_type": "code",
      "source": [
        "Etotal_w1 = Etotal_Saida_h1  * saida_h1_entrada_h1  * i1\n",
        "print(\"Etotal/w1=\", Etotal_w1)\n",
        "\n",
        "Etotal_w2 = Etotal_Saida_h1  * saida_h2_entrada_h2  * i2\n",
        "print(\"Etotal/w2=\", Etotal_w2)"
      ],
      "metadata": {
        "colab": {
          "base_uri": "https://localhost:8080/",
          "height": 251
        },
        "id": "fP8yp1sw3e8H",
        "outputId": "d5803ea1-64ec-438d-a10a-00a180031343"
      },
      "execution_count": null,
      "outputs": [
        {
          "output_type": "error",
          "ename": "NameError",
          "evalue": "ignored",
          "traceback": [
            "\u001b[0;31m---------------------------------------------------------------------------\u001b[0m",
            "\u001b[0;31mNameError\u001b[0m                                 Traceback (most recent call last)",
            "\u001b[0;32m<ipython-input-5-9ec227a2740e>\u001b[0m in \u001b[0;36m<cell line: 1>\u001b[0;34m()\u001b[0m\n\u001b[0;32m----> 1\u001b[0;31m \u001b[0mEtotal_w1\u001b[0m \u001b[0;34m=\u001b[0m \u001b[0mEtotal_Saida_h1\u001b[0m  \u001b[0;34m*\u001b[0m \u001b[0msaida_h1_entrada_h1\u001b[0m  \u001b[0;34m*\u001b[0m \u001b[0mi1\u001b[0m\u001b[0;34m\u001b[0m\u001b[0;34m\u001b[0m\u001b[0m\n\u001b[0m\u001b[1;32m      2\u001b[0m \u001b[0mprint\u001b[0m\u001b[0;34m(\u001b[0m\u001b[0;34m\"Etotal/w1=\"\u001b[0m\u001b[0;34m,\u001b[0m \u001b[0mEtotal_w1\u001b[0m\u001b[0;34m)\u001b[0m\u001b[0;34m\u001b[0m\u001b[0;34m\u001b[0m\u001b[0m\n\u001b[1;32m      3\u001b[0m \u001b[0;34m\u001b[0m\u001b[0m\n\u001b[1;32m      4\u001b[0m \u001b[0mEtotal_w2\u001b[0m \u001b[0;34m=\u001b[0m \u001b[0mEtotal_Saida_h1\u001b[0m  \u001b[0;34m*\u001b[0m \u001b[0msaida_h2_entrada_h2\u001b[0m  \u001b[0;34m*\u001b[0m \u001b[0mi2\u001b[0m\u001b[0;34m\u001b[0m\u001b[0;34m\u001b[0m\u001b[0m\n\u001b[1;32m      5\u001b[0m \u001b[0mprint\u001b[0m\u001b[0;34m(\u001b[0m\u001b[0;34m\"Etotal/w2=\"\u001b[0m\u001b[0;34m,\u001b[0m \u001b[0mEtotal_w2\u001b[0m\u001b[0;34m)\u001b[0m\u001b[0;34m\u001b[0m\u001b[0;34m\u001b[0m\u001b[0m\n",
            "\u001b[0;31mNameError\u001b[0m: name 'Etotal_Saida_h1' is not defined"
          ]
        }
      ]
    },
    {
      "cell_type": "markdown",
      "source": [
        "### *Calcular novos bias com uma taxa de aprendizagem (learning_rate) 𝜂=0,5  *\n",
        "\n",
        "\\\\\n",
        "Calculos para novos pesos w1 e w3: \\\\\n",
        "w1+ = w1 - 𝜂*$\\frac{{\\partial E_{\\text{total}}}}{{\\partial w1}}$ (=) \\\\\n",
        "w3+ = w3 - 𝜂*$\\frac{{\\partial E_{\\text{total}}}}{{\\partial w1}}$ (=)\n",
        "\n",
        "\n",
        "Calculos para novos pesos w2 e w4: \\\\\n",
        "w2+ = w2 - 𝜂*$\\frac{{\\partial E_{\\text{total}}}}{{\\partial w2}}$ (=) \\\\\n",
        "w4+ = w4 - 𝜂*$\\frac{{\\partial E_{\\text{total}}}}{{\\partial w2}}$ (=)\n",
        "\n",
        "\n",
        "\\\\\n",
        "\n",
        "Calculos para novos bias $b_{2,1}$ e $b_{2,2}$: \\\\\n",
        "$b_{2,1}$+ = $b_{2,1}$ - 𝜂*$\\frac{{\\partial E_{\\text{total}}}}{{\\partial w1}}$\n",
        "\n",
        "Repetir o processo: \\\\\n",
        "$b_{2,2}$+ = $b_{2,1}$ - 𝜂*$\\frac{{\\partial E_{\\text{total}}}}{{\\partial w2}}$\n",
        "\n",
        "\n",
        "\n"
      ],
      "metadata": {
        "id": "9De391-Nyjbe"
      }
    },
    {
      "cell_type": "code",
      "source": [
        "# Atualizar pesos\n",
        "w1 = w1 -learning_rate * Etotal_w1\n",
        "w2 = w2 -learning_rate * Etotal_w2\n",
        "w3 = w3 -learning_rate * Etotal_w1\n",
        "w4 = w4 -learning_rate * Etotal_w2\n",
        "\n",
        "print(\"W1+ =\", w1)\n",
        "print(\"W2+ =\", w2)\n",
        "print(\"W3+ =\", w3)\n",
        "print(\"W4+ =\", w4)\n",
        "\n",
        "\n",
        "# Atualizar bias\n",
        "b21 += -learning_rate * Etotal_w1 * 1\n",
        "b22 += -learning_rate * Etotal_w2 * 1\n",
        "\n",
        "print(\"b21 =\", b21)\n",
        "print(\"b22 =\", b22)"
      ],
      "metadata": {
        "id": "M7NHVQgvP4kz",
        "colab": {
          "base_uri": "https://localhost:8080/"
        },
        "outputId": "67466e29-7bad-4705-c9e7-14510c009aea"
      },
      "execution_count": null,
      "outputs": [
        {
          "output_type": "stream",
          "name": "stdout",
          "text": [
            "W1+ = 0.11166396204810931\n",
            "W2+ = 0.2566952406840539\n",
            "W3+ = 0.27166396204810933\n",
            "W4+ = 0.3266952406840539\n",
            "b21 = 0.2616639620481093\n",
            "b22 = 0.4166952406840539\n"
          ]
        }
      ]
    },
    {
      "cell_type": "code",
      "source": [],
      "metadata": {
        "id": "49FzX7eW-x3u"
      },
      "execution_count": null,
      "outputs": []
    },
    {
      "cell_type": "code",
      "source": [],
      "metadata": {
        "id": "bSnEBi2p-ptX"
      },
      "execution_count": null,
      "outputs": []
    },
    {
      "cell_type": "code",
      "source": [],
      "metadata": {
        "id": "9GExGqtO-oej"
      },
      "execution_count": null,
      "outputs": []
    }
  ]
}